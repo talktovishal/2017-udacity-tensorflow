{
 "cells": [
  {
   "cell_type": "markdown",
   "metadata": {
    "collapsed": true,
    "deletable": true,
    "editable": true
   },
   "source": [
    "# Image Classification\n",
    "In this project, you'll classify images from the [CIFAR-10 dataset](https://www.cs.toronto.edu/~kriz/cifar.html).  The dataset consists of airplanes, dogs, cats, and other objects. You'll preprocess the images, then train a convolutional neural network on all the samples. The images need to be normalized and the labels need to be one-hot encoded.  You'll get to apply what you learned and build a convolutional, max pooling, dropout, and fully connected layers.  At the end, you'll get to see your neural network's predictions on the sample images.\n",
    "## Get the Data\n",
    "Run the following cell to download the [CIFAR-10 dataset for python](https://www.cs.toronto.edu/~kriz/cifar-10-python.tar.gz)."
   ]
  },
  {
   "cell_type": "code",
   "execution_count": 1,
   "metadata": {
    "collapsed": false,
    "deletable": true,
    "editable": true,
    "scrolled": true
   },
   "outputs": [
    {
     "name": "stderr",
     "output_type": "stream",
     "text": [
      "CIFAR-10 Dataset: 171MB [02:33, 994KB/s]                               \n"
     ]
    },
    {
     "name": "stdout",
     "output_type": "stream",
     "text": [
      "All files found!\n"
     ]
    }
   ],
   "source": [
    "\"\"\"\n",
    "DON'T MODIFY ANYTHING IN THIS CELL THAT IS BELOW THIS LINE\n",
    "\"\"\"\n",
    "from urllib.request import urlretrieve\n",
    "from os.path import isfile, isdir\n",
    "from tqdm import tqdm\n",
    "import problem_unittests as tests\n",
    "import tarfile\n",
    "import numpy as np\n",
    "import helper\n",
    "\n",
    "cifar10_dataset_folder_path = 'cifar-10-batches-py'\n",
    "\n",
    "class DLProgress(tqdm):\n",
    "    last_block = 0\n",
    "\n",
    "    def hook(self, block_num=1, block_size=1, total_size=None):\n",
    "        self.total = total_size\n",
    "        self.update((block_num - self.last_block) * block_size)\n",
    "        self.last_block = block_num\n",
    "\n",
    "if not isfile('cifar-10-python.tar.gz'):\n",
    "    with DLProgress(unit='B', unit_scale=True, miniters=1, desc='CIFAR-10 Dataset') as pbar:\n",
    "        urlretrieve(\n",
    "            'https://www.cs.toronto.edu/~kriz/cifar-10-python.tar.gz',\n",
    "            'cifar-10-python.tar.gz',\n",
    "            pbar.hook)\n",
    "\n",
    "if not isdir(cifar10_dataset_folder_path):\n",
    "    with tarfile.open('cifar-10-python.tar.gz') as tar:\n",
    "        tar.extractall()\n",
    "        tar.close()\n",
    "\n",
    "\n",
    "tests.test_folder_path(cifar10_dataset_folder_path)"
   ]
  },
  {
   "cell_type": "markdown",
   "metadata": {
    "deletable": true,
    "editable": true
   },
   "source": [
    "## Explore the Data\n",
    "The dataset is broken into batches to prevent your machine from running out of memory.  The CIFAR-10 dataset consists of 5 batches, named `data_batch_1`, `data_batch_2`, etc.. Each batch contains the labels and images that are one of the following:\n",
    "* airplane\n",
    "* automobile\n",
    "* bird\n",
    "* cat\n",
    "* deer\n",
    "* dog\n",
    "* frog\n",
    "* horse\n",
    "* ship\n",
    "* truck\n",
    "\n",
    "Understanding a dataset is part of making predictions on the data.  Play around with the code cell below by changing the `batch_id` and `sample_id`. The `batch_id` is the id for a batch (1-5). The `sample_id` is the id for a image and label pair in the batch.\n",
    "\n",
    "Ask yourself \"What are all possible labels?\", \"What is the range of values for the image data?\", \"Are the labels in order or random?\".  Answers to questions like these will help you preprocess the data and end up with better predictions."
   ]
  },
  {
   "cell_type": "code",
   "execution_count": 11,
   "metadata": {
    "collapsed": false,
    "deletable": true,
    "editable": true,
    "scrolled": true
   },
   "outputs": [
    {
     "name": "stdout",
     "output_type": "stream",
     "text": [
      "\n",
      "Stats of batch 1:\n",
      "Samples: 10000\n",
      "Label Counts: {0: 1005, 1: 974, 2: 1032, 3: 1016, 4: 999, 5: 937, 6: 1030, 7: 1001, 8: 1025, 9: 981}\n",
      "First 20 Labels: [6, 9, 9, 4, 1, 1, 2, 7, 8, 3, 4, 7, 7, 2, 9, 9, 9, 3, 2, 6]\n",
      "\n",
      "Example of Image 3:\n",
      "Image - Min Value: 4 Max Value: 234\n",
      "Image - Shape: (32, 32, 3)\n",
      "Label - Label Id: 4 Name: deer\n"
     ]
    },
    {
     "data": {
      "image/png": "[encoded data removed]",
      "text/plain": [
       "<matplotlib.figure.Figure at 0x7fcb487744a8>"
      ]
     },
     "metadata": {
      "image/png": {
       "height": 250,
       "width": 253
      }
     },
     "output_type": "display_data"
    }
   ],
   "source": [
    "%matplotlib inline\n",
    "%config InlineBackend.figure_format = 'retina'\n",
    "\n",
    "import helper\n",
    "import numpy as np\n",
    "\n",
    "# Explore the dataset\n",
    "batch_id = 1\n",
    "sample_id = 3\n",
    "helper.display_stats(cifar10_dataset_folder_path, batch_id, sample_id)"
   ]
  },
  {
   "cell_type": "markdown",
   "metadata": {
    "deletable": true,
    "editable": true
   },
   "source": [
    "## Implement Preprocess Functions\n",
    "### Normalize\n",
    "In the cell below, implement the `normalize` function to take in image data, `x`, and return it as a normalized Numpy array. The values should be in the range of 0 to 1, inclusive.  The return object should be the same shape as `x`."
   ]
  },
  {
   "cell_type": "code",
   "execution_count": 2,
   "metadata": {
    "collapsed": false,
    "deletable": true,
    "editable": true
   },
   "outputs": [
    {
     "name": "stdout",
     "output_type": "stream",
     "text": [
      "Tests Passed\n"
     ]
    }
   ],
   "source": [
    "def normalize(x):\n",
    "    \"\"\"\n",
    "    Normalize a list of sample image data in the range of 0 to 1\n",
    "    : x: List of image data.  The image shape is (32, 32, 3)\n",
    "    : return: Numpy array of normalize data\n",
    "    \"\"\"\n",
    "    # TODO: Implement Function\n",
    "    return (255-x)*1.0/255\n",
    "\n",
    "\n",
    "\n",
    "##test_shape = (np.random.choice(range(1000)), 32, 32, 3)\n",
    "##test_numbers = np.random.choice(range(256), test_shape)\n",
    "##normalize_out = normalize(test_numbers)\n",
    "##print(normalize_out)\n",
    "\n",
    "\"\"\"\n",
    "DON'T MODIFY ANYTHING IN THIS CELL THAT IS BELOW THIS LINE\n",
    "\"\"\"\n",
    "tests.test_normalize(normalize)"
   ]
  },
  {
   "cell_type": "markdown",
   "metadata": {
    "deletable": true,
    "editable": true
   },
   "source": [
    "### One-hot encode\n",
    "Just like the previous code cell, you'll be implementing a function for preprocessing.  This time, you'll implement the `one_hot_encode` function. The input, `x`, are a list of labels.  Implement the function to return the list of labels as One-Hot encoded Numpy array.  The possible values for labels are 0 to 9. The one-hot encoding function should return the same encoding for each value between each call to `one_hot_encode`.  Make sure to save the map of encodings outside the function.\n",
    "\n",
    "Hint: Don't reinvent the wheel."
   ]
  },
  {
   "cell_type": "code",
   "execution_count": 3,
   "metadata": {
    "collapsed": false,
    "deletable": true,
    "editable": true
   },
   "outputs": [
    {
     "name": "stdout",
     "output_type": "stream",
     "text": [
      "19\n",
      "[0 5 1 5 5 0 8 8 6 3 0 8 7 0 4 8 1 1 7]\n",
      "19\n"
     ]
    }
   ],
   "source": [
    "test_shape = np.random.choice(range(20))\n",
    "test_numbers = np.random.choice(range(10), test_shape)\n",
    "\n",
    "print(test_shape)\n",
    "print(test_numbers)\n",
    "print(test_numbers.shape[0])\n"
   ]
  },
  {
   "cell_type": "code",
   "execution_count": 4,
   "metadata": {
    "collapsed": false,
    "deletable": true,
    "editable": true,
    "scrolled": false
   },
   "outputs": [
    {
     "name": "stdout",
     "output_type": "stream",
     "text": [
      "Tests Passed\n"
     ]
    }
   ],
   "source": [
    "def one_hot(i):\n",
    "    a = np.zeros(10, 'uint8')\n",
    "    a[i] = 1\n",
    "    return a\n",
    "\n",
    "dict_encodings = {}\n",
    "#populate the dictionary\n",
    "\n",
    "for x in range(0, 10):\n",
    "    dict_encodings[x] = one_hot(x)\n",
    "\n",
    "def one_hot_encode(X):\n",
    "    # convert list to array\n",
    "    x = np.array(X)\n",
    "    \"\"\"\n",
    "    One hot encode a list of sample labels. Return a one-hot encoded vector for each label.\n",
    "    : x: List of sample Labels\n",
    "    : return: Numpy array of one-hot encoded labels\n",
    "    \"\"\"\n",
    "    # TODO: Implement Function\n",
    "    encoding_arr = np.empty([x.shape[0], 10], dtype=int)\n",
    "    index = 0\n",
    "    #print(x)\n",
    "    #print(tuple(x))\n",
    "    ##for element in np.nditer(x): does not work, why???\n",
    "    for i in range(0, x.shape[0]):\n",
    "        #print (x[i])\n",
    "        #print (dict_encodings[x[i]]) \n",
    "        encoding_arr[i,] = dict_encodings[x[i]]\n",
    "    return encoding_arr\n",
    "\n",
    "\n",
    "#print(dict_encodings)\n",
    "#print(dict_encodings[8])\n",
    "#print(one_hot_encode(test_numbers))\n",
    "\n",
    "\"\"\"\n",
    "DON'T MODIFY ANYTHING IN THIS CELL THAT IS BELOW THIS LINE\n",
    "\"\"\"\n",
    "tests.test_one_hot_encode(one_hot_encode)"
   ]
  },
  {
   "cell_type": "markdown",
   "metadata": {
    "deletable": true,
    "editable": true
   },
   "source": [
    "### Randomize Data\n",
    "As you saw from exploring the data above, the order of the samples are randomized.  It doesn't hurt to randomize it again, but you don't need to for this dataset."
   ]
  },
  {
   "cell_type": "markdown",
   "metadata": {
    "deletable": true,
    "editable": true
   },
   "source": [
    "## Preprocess all the data and save it\n",
    "Running the code cell below will preprocess all the CIFAR-10 data and save it to file. The code below also uses 10% of the training data for validation."
   ]
  },
  {
   "cell_type": "code",
   "execution_count": 5,
   "metadata": {
    "collapsed": false,
    "deletable": true,
    "editable": true
   },
   "outputs": [],
   "source": [
    "\"\"\"\n",
    "DON'T MODIFY ANYTHING IN THIS CELL\n",
    "\"\"\"\n",
    "# Preprocess Training, Validation, and Testing Data\n",
    "helper.preprocess_and_save_data(cifar10_dataset_folder_path, normalize, one_hot_encode)"
   ]
  },
  {
   "cell_type": "markdown",
   "metadata": {
    "deletable": true,
    "editable": true
   },
   "source": [
    "# Check Point\n",
    "This is your first checkpoint.  If you ever decide to come back to this notebook or have to restart the notebook, you can start from here.  The preprocessed data has been saved to disk."
   ]
  },
  {
   "cell_type": "code",
   "execution_count": 6,
   "metadata": {
    "collapsed": false,
    "deletable": true,
    "editable": true
   },
   "outputs": [],
   "source": [
    "\"\"\"\n",
    "DON'T MODIFY ANYTHING IN THIS CELL\n",
    "\"\"\"\n",
    "import pickle\n",
    "import problem_unittests as tests\n",
    "import helper\n",
    "\n",
    "# Load the Preprocessed Validation data\n",
    "valid_features, valid_labels = pickle.load(open('preprocess_validation.p', mode='rb'))"
   ]
  },
  {
   "cell_type": "markdown",
   "metadata": {
    "deletable": true,
    "editable": true
   },
   "source": [
    "## Build the network\n",
    "For the neural network, you'll build each layer into a function.  Most of the code you've seen has been outside of functions. To test your code more thoroughly, we require that you put each layer in a function.  This allows us to give you better feedback and test for simple mistakes using our unittests before you submit your project.\n",
    "\n",
    ">**Note:** If you're finding it hard to dedicate enough time for this course each week, we've provided a small shortcut to this part of the project. In the next couple of problems, you'll have the option to use classes from the [TensorFlow Layers](https://www.tensorflow.org/api_docs/python/tf/layers) or [TensorFlow Layers (contrib)](https://www.tensorflow.org/api_guides/python/contrib.layers) packages to build each layer, except the layers you build in the \"Convolutional and Max Pooling Layer\" section.  TF Layers is similar to Keras's and TFLearn's abstraction to layers, so it's easy to pickup.\n",
    "\n",
    ">However, if you would like to get the most out of this course, try to solve all the problems _without_ using anything from the TF Layers packages. You **can** still use classes from other packages that happen to have the same name as ones you find in TF Layers! For example, instead of using the TF Layers version of the `conv2d` class, [tf.layers.conv2d](https://www.tensorflow.org/api_docs/python/tf/layers/conv2d), you would want to use the TF Neural Network version of `conv2d`, [tf.nn.conv2d](https://www.tensorflow.org/api_docs/python/tf/nn/conv2d). \n",
    "\n",
    "Let's begin!\n",
    "\n",
    "### Input\n",
    "The neural network needs to read the image data, one-hot encoded labels, and dropout keep probability. Implement the following functions\n",
    "* Implement `neural_net_image_input`\n",
    " * Return a [TF Placeholder](https://www.tensorflow.org/api_docs/python/tf/placeholder)\n",
    " * Set the shape using `image_shape` with batch size set to `None`.\n",
    " * Name the TensorFlow placeholder \"x\" using the TensorFlow `name` parameter in the [TF Placeholder](https://www.tensorflow.org/api_docs/python/tf/placeholder).\n",
    "* Implement `neural_net_label_input`\n",
    " * Return a [TF Placeholder](https://www.tensorflow.org/api_docs/python/tf/placeholder)\n",
    " * Set the shape using `n_classes` with batch size set to `None`.\n",
    " * Name the TensorFlow placeholder \"y\" using the TensorFlow `name` parameter in the [TF Placeholder](https://www.tensorflow.org/api_docs/python/tf/placeholder).\n",
    "* Implement `neural_net_keep_prob_input`\n",
    " * Return a [TF Placeholder](https://www.tensorflow.org/api_docs/python/tf/placeholder) for dropout keep probability.\n",
    " * Name the TensorFlow placeholder \"keep_prob\" using the TensorFlow `name` parameter in the [TF Placeholder](https://www.tensorflow.org/api_docs/python/tf/placeholder).\n",
    "\n",
    "These names will be used at the end of the project to load your saved model.\n",
    "\n",
    "Note: `None` for shapes in TensorFlow allow for a dynamic size."
   ]
  },
  {
   "cell_type": "code",
   "execution_count": 7,
   "metadata": {
    "collapsed": false,
    "deletable": true,
    "editable": true
   },
   "outputs": [
    {
     "name": "stdout",
     "output_type": "stream",
     "text": [
      "Image Input Tests Passed.\n",
      "Label Input Tests Passed.\n",
      "Keep Prob Tests Passed.\n"
     ]
    }
   ],
   "source": [
    "import tensorflow as tf\n",
    "\n",
    "def neural_net_image_input(image_shape):\n",
    "    \"\"\"\n",
    "    Return a Tensor for a bach of image input\n",
    "    : image_shape: Shape of the images\n",
    "    : return: Tensor for image input.\n",
    "    \"\"\"\n",
    "    # `tf.nn.conv2d` requires the input be 4D (batch_size, height, width, depth)\n",
    "    #image_shape is a tuple, convert to list\n",
    "    ##shape = [image_shape]\n",
    "    shape = list(image_shape)\n",
    "    shape.insert(0, None)\n",
    "    #print('shape-image-input = ')\n",
    "    #print(shape)\n",
    "    X = tf.placeholder(tf.float32, shape, name=\"x\")\n",
    "    return X\n",
    "\n",
    "\n",
    "def neural_net_label_input(n_classes):\n",
    "    \"\"\"\n",
    "    Return a Tensor for a batch of label input\n",
    "    : n_classes: Number of classes\n",
    "    : return: Tensor for label input.\n",
    "    \"\"\"\n",
    "    #n_classes is a simple int\n",
    "    shape = [n_classes]\n",
    "    shape.insert(0, None)\n",
    "    Y = tf.placeholder(tf.float32, shape, name=\"y\")\n",
    "    return Y\n",
    "\n",
    "\n",
    "def neural_net_keep_prob_input():\n",
    "    \"\"\"\n",
    "    Return a Tensor for keep probability\n",
    "    : return: Tensor for keep probability.\n",
    "    \"\"\"\n",
    "    # TODO: Implement Function\n",
    "    keep_prob = tf.placeholder(tf.float32, name=\"keep_prob\")\n",
    "    return keep_prob\n",
    "\n",
    "\n",
    "\"\"\"\n",
    "DON'T MODIFY ANYTHING IN THIS CELL THAT IS BELOW THIS LINE\n",
    "\"\"\"\n",
    "tf.reset_default_graph()\n",
    "tests.test_nn_image_inputs(neural_net_image_input)\n",
    "tests.test_nn_label_inputs(neural_net_label_input)\n",
    "tests.test_nn_keep_prob_inputs(neural_net_keep_prob_input)"
   ]
  },
  {
   "cell_type": "markdown",
   "metadata": {
    "deletable": true,
    "editable": true
   },
   "source": [
    "### Convolution and Max Pooling Layer\n",
    "Convolution layers have a lot of success with images. For this code cell, you should implement the function `conv2d_maxpool` to apply convolution then max pooling:\n",
    "* Create the weight and bias using `conv_ksize`, `conv_num_outputs` and the shape of `x_tensor`.\n",
    "* Apply a convolution to `x_tensor` using weight and `conv_strides`.\n",
    " * We recommend you use same padding, but you're welcome to use any padding.\n",
    "* Add bias\n",
    "* Add a nonlinear activation to the convolution.\n",
    "* Apply Max Pooling using `pool_ksize` and `pool_strides`.\n",
    " * We recommend you use same padding, but you're welcome to use any padding.\n",
    "\n",
    "**Note:** You **can't** use [TensorFlow Layers](https://www.tensorflow.org/api_docs/python/tf/layers) or [TensorFlow Layers (contrib)](https://www.tensorflow.org/api_guides/python/contrib.layers) for **this** layer, but you can still use TensorFlow's [Neural Network](https://www.tensorflow.org/api_docs/python/tf/nn) package. You may still use the shortcut option for all the **other** layers."
   ]
  },
  {
   "cell_type": "code",
   "execution_count": 9,
   "metadata": {
    "collapsed": false,
    "deletable": true,
    "editable": true
   },
   "outputs": [
    {
     "name": "stdout",
     "output_type": "stream",
     "text": [
      "Tests Passed\n"
     ]
    }
   ],
   "source": [
    "def conv2d(x, W, b, strides=(1,1)):\n",
    "    strides_0, strides_1 = strides\n",
    "    x = tf.nn.conv2d(x, W, strides=[1, strides_0, strides_1, 1], padding='SAME')\n",
    "    x = tf.nn.bias_add(x, b)\n",
    "    return tf.nn.relu(x)\n",
    "\n",
    "def maxpool2d(x, ksize=(2,2), strides=(2,2)):\n",
    "    strides_0, strides_1 = strides\n",
    "    ksize_0, ksize_1 = ksize\n",
    "    return tf.nn.max_pool(\n",
    "        x,\n",
    "        ksize=[1, ksize_0, ksize_1, 1],\n",
    "        strides=[1, strides_0, strides_1, 1],\n",
    "        padding='SAME')\n",
    "\"\"\"\n",
    "After the dropout was not working, i changed the std deviation to be = 0.1 instead of 0.0 the default.\n",
    "\"\"\"\n",
    "def conv2d_maxpool(x_tensor, conv_num_outputs, conv_ksize, conv_strides, pool_ksize, pool_strides):\n",
    "    \"\"\"\n",
    "    Apply convolution then max pooling to x_tensor\n",
    "    :param x_tensor: TensorFlow Tensor\n",
    "    :param conv_num_outputs: Number of outputs for the convolutional layer\n",
    "    :param conv_ksize: kernal size 2-D Tuple for the convolutional layer\n",
    "    :param conv_strides: Stride 2-D Tuple for convolution\n",
    "    :param pool_ksize: kernal size 2-D Tuple for pool\n",
    "    :param pool_strides: Stride 2-D Tuple for pool\n",
    "    : return: A tensor that represents convolution and max pooling of x_tensor\n",
    "    \"\"\"\n",
    "    ##BIG ASSUMPTION: Images are x*y*number of channels. i.e. 3-D. If not, i need account for that more gracefully\n",
    "    # Create the weight and bias using `conv_ksize`, `conv_num_outputs` and the shape of `x_tensor`.\n",
    "    shape_w = list(conv_ksize)\n",
    "    #print(x_tensor.shape) #(?, 32, 32, 5)\n",
    "    shape_x = x_tensor.shape.as_list()\n",
    "    shape_w.append(shape_x[3]) #number of channels- features\n",
    "    shape_w.append(conv_num_outputs)  # of of filters\n",
    "    shape_b = [conv_num_outputs]\n",
    "    #print(shape_w)\n",
    "    #print(shape_b)\n",
    "    w = tf.Variable(tf.truncated_normal(shape_w, stddev=0.1))\n",
    "    b = tf.Variable(tf.truncated_normal(shape_b, stddev=0.1))\n",
    "    conv1 = conv2d(x_tensor, w, b, conv_strides)\n",
    "    conv1 = maxpool2d(conv1, pool_ksize, pool_strides)\n",
    "    # vishalc -- was missing relu -- BIG BUG!!!\n",
    "    conv1 = tf.nn.relu(conv1)\n",
    "    return conv1\n",
    "\n",
    "\n",
    "\"\"\"\n",
    "DON'T MODIFY ANYTHING IN THIS CELL THAT IS BELOW THIS LINE\n",
    "\"\"\"\n",
    "tests.test_con_pool(conv2d_maxpool)"
   ]
  },
  {
   "cell_type": "markdown",
   "metadata": {
    "deletable": true,
    "editable": true
   },
   "source": [
    "### Flatten Layer\n",
    "Implement the `flatten` function to change the dimension of `x_tensor` from a 4-D tensor to a 2-D tensor.  The output should be the shape (*Batch Size*, *Flattened Image Size*). Shortcut option: you can use classes from the [TensorFlow Layers](https://www.tensorflow.org/api_docs/python/tf/layers) or [TensorFlow Layers (contrib)](https://www.tensorflow.org/api_guides/python/contrib.layers) packages for this layer. For more of a challenge, only use other TensorFlow packages."
   ]
  },
  {
   "cell_type": "code",
   "execution_count": 10,
   "metadata": {
    "collapsed": false,
    "deletable": true,
    "editable": true
   },
   "outputs": [
    {
     "name": "stdout",
     "output_type": "stream",
     "text": [
      "Tests Passed\n"
     ]
    }
   ],
   "source": [
    "def flatten(x_tensor):\n",
    "    \"\"\"\n",
    "    Flatten x_tensor to (Batch Size, Flattened Image Size)\n",
    "    : x_tensor: A tensor of size (Batch Size, ...), where ... are the image dimensions.\n",
    "    : return: A tensor of size (Batch Size, Flattened Image Size).\n",
    "    \"\"\"\n",
    "    shape_x = x_tensor.shape.as_list()\n",
    "    new_shape = [-1, shape_x[1]*shape_x[2]*shape_x[3]]\n",
    "    #print(new_shape)\n",
    "    x_flattened = tf.reshape(x_tensor, new_shape)\n",
    "    return x_flattened\n",
    "\n",
    "\n",
    "\"\"\"\n",
    "DON'T MODIFY ANYTHING IN THIS CELL THAT IS BELOW THIS LINE\n",
    "\"\"\"\n",
    "tests.test_flatten(flatten)"
   ]
  },
  {
   "cell_type": "markdown",
   "metadata": {
    "deletable": true,
    "editable": true
   },
   "source": [
    "### Fully-Connected Layer\n",
    "Implement the `fully_conn` function to apply a fully connected layer to `x_tensor` with the shape (*Batch Size*, *num_outputs*). Shortcut option: you can use classes from the [TensorFlow Layers](https://www.tensorflow.org/api_docs/python/tf/layers) or [TensorFlow Layers (contrib)](https://www.tensorflow.org/api_guides/python/contrib.layers) packages for this layer. For more of a challenge, only use other TensorFlow packages."
   ]
  },
  {
   "cell_type": "code",
   "execution_count": 11,
   "metadata": {
    "collapsed": false,
    "deletable": true,
    "editable": true
   },
   "outputs": [
    {
     "name": "stdout",
     "output_type": "stream",
     "text": [
      "Tests Passed\n"
     ]
    }
   ],
   "source": [
    "def fully_conn(x_tensor, num_outputs):\n",
    "    \"\"\"\n",
    "    Apply a fully connected layer to x_tensor using weight and bias\n",
    "    : x_tensor: A 2-D tensor where the first dimension is batch size.\n",
    "    : num_outputs: The number of output that the new tensor should be.\n",
    "    : return: A 2-D tensor where the second dimension is num_outputs.\n",
    "    \"\"\"\n",
    "    x_shape = x_tensor.shape.as_list()\n",
    "    w = tf.Variable(tf.truncated_normal([x_shape[1], num_outputs], stddev=0.1))\n",
    "    b = tf.Variable(tf.truncated_normal([num_outputs], stddev=0.1))\n",
    "    fc1 = tf.reshape(x_tensor, [-1, w.get_shape().as_list()[0]])\n",
    "    fc1 = tf.add(tf.matmul(fc1, w), b)\n",
    "    fc1 = tf.nn.relu(fc1)\n",
    "    #fc1 = tf.nn.dropout(fc1, dropout)\n",
    "    return fc1\n",
    "\n",
    "\n",
    "\"\"\"\n",
    "DON'T MODIFY ANYTHING IN THIS CELL THAT IS BELOW THIS LINE\n",
    "\"\"\"\n",
    "tests.test_fully_conn(fully_conn)"
   ]
  },
  {
   "cell_type": "markdown",
   "metadata": {
    "deletable": true,
    "editable": true
   },
   "source": [
    "### Output Layer\n",
    "Implement the `output` function to apply a fully connected layer to `x_tensor` with the shape (*Batch Size*, *num_outputs*). Shortcut option: you can use classes from the [TensorFlow Layers](https://www.tensorflow.org/api_docs/python/tf/layers) or [TensorFlow Layers (contrib)](https://www.tensorflow.org/api_guides/python/contrib.layers) packages for this layer. For more of a challenge, only use other TensorFlow packages.\n",
    "\n",
    "**Note:** Activation, softmax, or cross entropy should **not** be applied to this."
   ]
  },
  {
   "cell_type": "code",
   "execution_count": 12,
   "metadata": {
    "collapsed": false,
    "deletable": true,
    "editable": true
   },
   "outputs": [
    {
     "name": "stdout",
     "output_type": "stream",
     "text": [
      "Tests Passed\n"
     ]
    }
   ],
   "source": [
    "def output(x_tensor, num_outputs):\n",
    "    \"\"\"\n",
    "    Apply a output layer to x_tensor using weight and bias\n",
    "    : x_tensor: A 2-D tensor where the first dimension is batch size.\n",
    "    : num_outputs: The number of output that the new tensor should be.\n",
    "    : return: A 2-D tensor where the second dimension is num_outputs.\n",
    "    \"\"\"\n",
    "    x_shape = x_tensor.shape.as_list()\n",
    "    w_out = tf.Variable(tf.truncated_normal([x_shape[1], num_outputs], stddev=0.1))\n",
    "    b_out = tf.Variable(tf.truncated_normal([num_outputs], stddev=0.1))\n",
    "    out = tf.add(tf.matmul(x_tensor, w_out), b_out)\n",
    "    return out\n",
    "\n",
    "\n",
    "\"\"\"\n",
    "DON'T MODIFY ANYTHING IN THIS CELL THAT IS BELOW THIS LINE\n",
    "\"\"\"\n",
    "tests.test_output(output)"
   ]
  },
  {
   "cell_type": "markdown",
   "metadata": {
    "deletable": true,
    "editable": true
   },
   "source": [
    "### Create Convolutional Model\n",
    "Implement the function `conv_net` to create a convolutional neural network model. The function takes in a batch of images, `x`, and outputs logits.  Use the layers you created above to create this model:\n",
    "\n",
    "* Apply 1, 2, or 3 Convolution and Max Pool layers\n",
    "* Apply a Flatten Layer\n",
    "* Apply 1, 2, or 3 Fully Connected Layers\n",
    "* Apply an Output Layer\n",
    "* Return the output\n",
    "* Apply [TensorFlow's Dropout](https://www.tensorflow.org/api_docs/python/tf/nn/dropout) to one or more layers in the model using `keep_prob`. "
   ]
  },
  {
   "cell_type": "code",
   "execution_count": 13,
   "metadata": {
    "collapsed": false,
    "deletable": true,
    "editable": true
   },
   "outputs": [
    {
     "name": "stdout",
     "output_type": "stream",
     "text": [
      "Neural Network Built!\n"
     ]
    }
   ],
   "source": [
    "number_of_classes = 10\n",
    "\n",
    "\"\"\"\n",
    "Iteration #2 of models. Reduce parameter size and asses impact of dropout. Still a shallow model\n",
    "conv_net_with_smaller_params\n",
    "\"\"\"\n",
    "def conv_net(x, keep_prob):\n",
    "    \"\"\"\n",
    "    Create a convolutional neural network model\n",
    "    : x: Placeholder tensor that holds image data.\n",
    "    : keep_prob: Placeholder tensor that hold dropout keep probability.\n",
    "    : return: Tensor that represents logits\n",
    "    \"\"\"\n",
    "    # TODO: Apply 1, 2, or 3 Convolution and Max Pool layers\n",
    "    #    Play around with different number of outputs, kernel size and stride\n",
    "    # Function Definition from Above:\n",
    "    conv2d_1 = conv2d_maxpool(x, 32, (3,3), (2,2), (3,3), (2,2))\n",
    "    \n",
    "\n",
    "    # TODO: Apply a Flatten Layer\n",
    "    # Function Definition from Above:\n",
    "    conv2d_1_flattened = flatten(conv2d_1)\n",
    "    \n",
    "\n",
    "    # TODO: Apply 1, 2, or 3 Fully Connected Layers\n",
    "    #    Play around with different number of outputs\n",
    "    # Function Definition from Above:\n",
    "    conv2d_1_fully_conn = fully_conn(conv2d_1_flattened, 512)\n",
    "    \n",
    "    conv2d_1_fully_conn_dropout = tf.nn.dropout(conv2d_1_fully_conn, keep_prob)\n",
    "\n",
    "    \n",
    "    # TODO: Apply an Output Layer\n",
    "    #    Set this to the number of classes\n",
    "    # Function Definition from Above:\n",
    "    final_output =  output(conv2d_1_fully_conn_dropout, number_of_classes)\n",
    "    \n",
    "    \n",
    "    # TODO: return output\n",
    "    return final_output\n",
    "\n",
    "\n",
    "\"\"\"\n",
    "DON'T MODIFY ANYTHING IN THIS CELL THAT IS BELOW THIS LINE\n",
    "\"\"\"\n",
    "\n",
    "##############################\n",
    "## Build the Neural Network ##\n",
    "##############################\n",
    "\n",
    "# Remove previous weights, bias, inputs, etc..\n",
    "tf.reset_default_graph()\n",
    "\n",
    "# Inputs\n",
    "x = neural_net_image_input((32, 32, 3))\n",
    "y = neural_net_label_input(10)\n",
    "keep_prob = neural_net_keep_prob_input()\n",
    "\n",
    "# Model\n",
    "logits = conv_net(x, keep_prob)\n",
    "\n",
    "# Name logits Tensor, so that is can be loaded from disk after training\n",
    "logits = tf.identity(logits, name='logits')\n",
    "\n",
    "# Loss and Optimizer\n",
    "cost = tf.reduce_mean(tf.nn.softmax_cross_entropy_with_logits(logits=logits, labels=y))\n",
    "optimizer = tf.train.AdamOptimizer().minimize(cost)\n",
    "\n",
    "# Accuracy\n",
    "correct_pred = tf.equal(tf.argmax(logits, 1), tf.argmax(y, 1))\n",
    "accuracy = tf.reduce_mean(tf.cast(correct_pred, tf.float32), name='accuracy')\n",
    "\n",
    "tests.test_conv_net(conv_net)"
   ]
  },
  {
   "cell_type": "code",
   "execution_count": 28,
   "metadata": {
    "collapsed": true
   },
   "outputs": [],
   "source": [
    "\"\"\"\n",
    "Iteration 3 of models. Deep model. Inspired from\n",
    "conv_net_deepmodel\n",
    "https://www.tensorflow.org/get_started/mnist/pros\n",
    "\"\"\"\n",
    "def conv_net(x, keep_prob):\n",
    "    \"\"\"\n",
    "    Create a convolutional neural network model\n",
    "    : x: Placeholder tensor that holds image data.\n",
    "    : keep_prob: Placeholder tensor that hold dropout keep probability.\n",
    "    : return: Tensor that represents logits\n",
    "    \"\"\"\n",
    "    # TODO: Apply 1, 2, or 3 Convolution and Max Pool layers\n",
    "    #    Play around with different number of outputs, kernel size and stride\n",
    "    # Function Definition from Above:\n",
    "    conv2d_1 = conv2d_maxpool(x, 32, (3,3), (2,2), (3,3), (2,2))\n",
    "\n",
    "    conv2d_2 = conv2d_maxpool(x, 64, (3,3), (2,2), (3,3), (2,2))\n",
    "    \n",
    "\n",
    "    # TODO: Apply a Flatten Layer\n",
    "    # Function Definition from Above:\n",
    "    conv2d_1_flattened = flatten(conv2d_2)\n",
    "    \n",
    "\n",
    "    # TODO: Apply 1, 2, or 3 Fully Connected Layers\n",
    "    #    Play around with different number of outputs\n",
    "    # Function Definition from Above:\n",
    "    conv2d_1_fully_conn = fully_conn(conv2d_1_flattened, 1024)\n",
    "    \n",
    "    conv2d_1_fully_conn_dropout = tf.nn.dropout(conv2d_1_fully_conn, keep_prob)\n",
    "\n",
    "    \n",
    "    # TODO: Apply an Output Layer\n",
    "    #    Set this to the number of classes\n",
    "    # Function Definition from Above:\n",
    "    final_output_logits =  output(conv2d_1_fully_conn_dropout, number_of_classes)\n",
    "    \n",
    "    \n",
    "    # TODO: return output\n",
    "    return final_output_logits\n"
   ]
  },
  {
   "cell_type": "code",
   "execution_count": 36,
   "metadata": {
    "collapsed": true,
    "deletable": true,
    "editable": true
   },
   "outputs": [],
   "source": [
    "\"\"\"\n",
    "Iteration 4 of models. Deep model.\n",
    "\"\"\"\n",
    "def conv_net(x, keep_prob):\n",
    "    \"\"\"\n",
    "    Create a convolutional neural network model\n",
    "    : x: Placeholder tensor that holds image data.\n",
    "    : keep_prob: Placeholder tensor that hold dropout keep probability.\n",
    "    : return: Tensor that represents logits\n",
    "    \"\"\"\n",
    "    # TODO: Apply 1, 2, or 3 Convolution and Max Pool layers\n",
    "    #    Play around with different number of outputs, kernel size and stride\n",
    "    # Function Definition from Above:\n",
    "    conv2d_1 = conv2d_maxpool(x, 32, (3,3), (2,2), (3,3), (2,2))\n",
    "\n",
    "    conv2d_2 = conv2d_maxpool(x, 64, (3,3), (2,2), (3,3), (2,2))\n",
    "    \n",
    "\n",
    "    # TODO: Apply a Flatten Layer\n",
    "    # Function Definition from Above:\n",
    "    conv2d_1_flattened = flatten(conv2d_2)\n",
    "    \n",
    "\n",
    "    # TODO: Apply 1, 2, or 3 Fully Connected Layers\n",
    "    #    Play around with different number of outputs\n",
    "    # Function Definition from Above:\n",
    "    conv2d_1_fully_conn = fully_conn(conv2d_1_flattened, 1024)\n",
    "    conv2d_2_fully_conn = fully_conn(conv2d_1_flattened, 1024)\n",
    "    conv2d_2_fully_conn_dropout = tf.nn.dropout(conv2d_2_fully_conn, keep_prob)\n",
    "\n",
    "    \n",
    "    # TODO: Apply an Output Layer\n",
    "    #    Set this to the number of classes\n",
    "    # Function Definition from Above:\n",
    "    final_output_logits =  output(conv2d_2_fully_conn_dropout, number_of_classes)\n",
    "    \n",
    "    \n",
    "    # TODO: return output\n",
    "    return final_output_logits\n",
    "\n"
   ]
  },
  {
   "cell_type": "code",
   "execution_count": 14,
   "metadata": {
    "collapsed": true,
    "deletable": true,
    "editable": true
   },
   "outputs": [],
   "source": [
    "\"\"\"\n",
    "Different model experiments.\n",
    "Simple model, large params -- note 512 & 1024. Dropout had no impact.\n",
    "\"\"\"\n",
    "def conv_net_1_simple(x, keep_prob):\n",
    "    \"\"\"\n",
    "    Create a convolutional neural network model\n",
    "    : x: Placeholder tensor that holds image data.\n",
    "    : keep_prob: Placeholder tensor that hold dropout keep probability.\n",
    "    : return: Tensor that represents logits\n",
    "    \"\"\"\n",
    "    # TODO: Apply 1, 2, or 3 Convolution and Max Pool layers\n",
    "    #    Play around with different number of outputs, kernel size and stride\n",
    "    # Function Definition from Above:\n",
    "    conv2d_1 = conv2d_maxpool(x, 1024, (3,3), (2,2), (3,3), (2,2))\n",
    "    \n",
    "\n",
    "    # TODO: Apply a Flatten Layer\n",
    "    # Function Definition from Above:\n",
    "    conv2d_1_flattened = flatten(conv2d_1)\n",
    "    \n",
    "\n",
    "    # TODO: Apply 1, 2, or 3 Fully Connected Layers\n",
    "    #    Play around with different number of outputs\n",
    "    # Function Definition from Above:\n",
    "    conv2d_1_fully_conn = fully_conn(conv2d_1_flattened, 512)\n",
    "    \n",
    "    conv2d_1_fully_conn_dropout = tf.nn.dropout(conv2d_1_fully_conn, keep_prob)\n",
    "\n",
    "    \n",
    "    # TODO: Apply an Output Layer\n",
    "    #    Set this to the number of classes\n",
    "    # Function Definition from Above:\n",
    "    final_output =  output(conv2d_1_fully_conn_dropout, number_of_classes)\n",
    "    \n",
    "    \n",
    "    # TODO: return output\n",
    "    return final_output\n"
   ]
  },
  {
   "cell_type": "code",
   "execution_count": 37,
   "metadata": {
    "collapsed": false
   },
   "outputs": [
    {
     "name": "stdout",
     "output_type": "stream",
     "text": [
      "Neural Network Built!\n"
     ]
    }
   ],
   "source": [
    "\"\"\"\n",
    "DON'T MODIFY ANYTHING IN THIS CELL THAT IS BELOW THIS LINE\n",
    "\"\"\"\n",
    "\n",
    "##############################\n",
    "## Build the Neural Network ##\n",
    "##############################\n",
    "\n",
    "# Remove previous weights, bias, inputs, etc..\n",
    "tf.reset_default_graph()\n",
    "\n",
    "# Inputs\n",
    "x = neural_net_image_input((32, 32, 3))\n",
    "y = neural_net_label_input(10)\n",
    "keep_prob = neural_net_keep_prob_input()\n",
    "\n",
    "# Model\n",
    "logits = conv_net(x, keep_prob)\n",
    "\n",
    "# Name logits Tensor, so that is can be loaded from disk after training\n",
    "logits = tf.identity(logits, name='logits')\n",
    "\n",
    "# Loss and Optimizer\n",
    "cost = tf.reduce_mean(tf.nn.softmax_cross_entropy_with_logits(logits=logits, labels=y))\n",
    "optimizer = tf.train.AdamOptimizer().minimize(cost)\n",
    "\n",
    "# Accuracy\n",
    "correct_pred = tf.equal(tf.argmax(logits, 1), tf.argmax(y, 1))\n",
    "accuracy = tf.reduce_mean(tf.cast(correct_pred, tf.float32), name='accuracy')\n",
    "\n",
    "tests.test_conv_net(conv_net)"
   ]
  },
  {
   "cell_type": "markdown",
   "metadata": {
    "deletable": true,
    "editable": true
   },
   "source": [
    "## Train the Neural Network\n",
    "### Single Optimization\n",
    "Implement the function `train_neural_network` to do a single optimization.  The optimization should use `optimizer` to optimize in `session` with a `feed_dict` of the following:\n",
    "* `x` for image input\n",
    "* `y` for labels\n",
    "* `keep_prob` for keep probability for dropout\n",
    "\n",
    "This function will be called for each batch, so `tf.global_variables_initializer()` has already been called.\n",
    "\n",
    "Note: Nothing needs to be returned. This function is only optimizing the neural network."
   ]
  },
  {
   "cell_type": "code",
   "execution_count": 38,
   "metadata": {
    "collapsed": false,
    "deletable": true,
    "editable": true
   },
   "outputs": [
    {
     "name": "stdout",
     "output_type": "stream",
     "text": [
      "Tests Passed\n"
     ]
    }
   ],
   "source": [
    "def train_neural_network(session, optimizer, keep_probability, feature_batch, label_batch):\n",
    "    \"\"\"\n",
    "    Optimize the session on a batch of images and labels\n",
    "    : session: Current TensorFlow session\n",
    "    : optimizer: TensorFlow optimizer function\n",
    "    : keep_probability: keep probability\n",
    "    : feature_batch: Batch of Numpy image data\n",
    "    : label_batch: Batch of Numpy label data\n",
    "    \"\"\"\n",
    "    session.run(optimizer, feed_dict={\n",
    "        x: feature_batch,\n",
    "        y: label_batch,\n",
    "        keep_prob: keep_probability})\n",
    "\n",
    "\n",
    "\"\"\"\n",
    "DON'T MODIFY ANYTHING IN THIS CELL THAT IS BELOW THIS LINE\n",
    "\"\"\"\n",
    "tests.test_train_nn(train_neural_network)"
   ]
  },
  {
   "cell_type": "markdown",
   "metadata": {
    "deletable": true,
    "editable": true
   },
   "source": [
    "### Show Stats\n",
    "Implement the function `print_stats` to print loss and validation accuracy.  Use the global variables `valid_features` and `valid_labels` to calculate validation accuracy.  Use a keep probability of `1.0` to calculate the loss and validation accuracy."
   ]
  },
  {
   "cell_type": "code",
   "execution_count": 39,
   "metadata": {
    "collapsed": false,
    "deletable": true,
    "editable": true
   },
   "outputs": [],
   "source": [
    "def print_stats(session, feature_batch, label_batch, cost, accuracy):\n",
    "    \"\"\"\n",
    "    Print information about loss and validation accuracy\n",
    "    : session: Current TensorFlow session\n",
    "    : feature_batch: Batch of Numpy image data\n",
    "    : label_batch: Batch of Numpy label data\n",
    "    : cost: TensorFlow cost function\n",
    "    : accuracy: TensorFlow accuracy function\n",
    "    \"\"\"\n",
    "    # TODO: Implement Function\n",
    "    # Calculate batch loss and accuracy\n",
    "    loss = session.run(cost, feed_dict={\n",
    "        x: feature_batch,\n",
    "        y: label_batch,\n",
    "        keep_prob: 1.})\n",
    "    valid_acc = session.run(accuracy, feed_dict={\n",
    "        x: valid_features[:256],\n",
    "        y: valid_labels[:256],\n",
    "        ## too big\n",
    "        ##x:  valid_features,\n",
    "        ##y:  valid_labels,\n",
    "        keep_prob: 1.})\n",
    "    print('Loss: {:>10.4f} Validation Accuracy: {:.6f}'.format(loss,valid_acc))\n",
    "    "
   ]
  },
  {
   "cell_type": "markdown",
   "metadata": {
    "deletable": true,
    "editable": true
   },
   "source": [
    "### Hyperparameters\n",
    "Tune the following parameters:\n",
    "* Set `epochs` to the number of iterations until the network stops learning or start overfitting\n",
    "* Set `batch_size` to the highest number that your machine has memory for.  Most people set them to common sizes of memory:\n",
    " * 64\n",
    " * 128\n",
    " * 256\n",
    " * ...\n",
    "* Set `keep_probability` to the probability of keeping a node using dropout"
   ]
  },
  {
   "cell_type": "code",
   "execution_count": 40,
   "metadata": {
    "collapsed": true,
    "deletable": true,
    "editable": true
   },
   "outputs": [],
   "source": [
    "# TODO: Tune Parameters\n",
    "epochs = 10\n",
    "batch_size = 128\n",
    "keep_probability = 0.5"
   ]
  },
  {
   "cell_type": "markdown",
   "metadata": {
    "collapsed": false,
    "deletable": true,
    "editable": true
   },
   "source": [
    "### Trainign results -- conv_net_1_simple -- dropout has no impact\n",
    "```\n",
    "Simple model\n",
    "epochs = 1\n",
    "batch_size = 10\n",
    "keep_probability = 1.\n",
    "\n",
    "Checking the Training on a Single Batch...\n",
    "Loss:  1712.2936 Validation Accuracy: 0.180200\n",
    "Loss:  2456.6816 Validation Accuracy: 0.259600\n",
    "Loss:  1635.0046 Validation Accuracy: 0.301000\n",
    "Loss:  1868.2234 Validation Accuracy: 0.317200\n",
    "Loss:  2319.1418 Validation Accuracy: 0.250000\n",
    "Loss:  1346.9896 Validation Accuracy: 0.223800\n",
    "Loss:  1235.2336 Validation Accuracy: 0.287600\n",
    "Loss:  2374.0945 Validation Accuracy: 0.274000\n",
    "Loss:  2055.2720 Validation Accuracy: 0.350600\n",
    "Epoch  1, CIFAR-10 Batch 1:  Loss:  2055.2720 Validation Accuracy: 0.350600\n",
    "\n",
    "epochs = 3\n",
    "batch_size = 128\n",
    "keep_probability = 1.\n",
    "Checking the Training on a Single Batch...\n",
    "Epoch  1, CIFAR-10 Batch 1:  Loss:  1842.8416 Validation Accuracy: 0.273600\n",
    "Loss:  1188.5358 Validation Accuracy: 0.289200\n",
    "Epoch  2, CIFAR-10 Batch 1:  Loss:  1267.0480 Validation Accuracy: 0.329200\n",
    "Loss:   930.9344 Validation Accuracy: 0.339200\n",
    "Epoch  3, CIFAR-10 Batch 1:  Loss:   851.2849 Validation Accuracy: 0.352000\n",
    "\n",
    "\n",
    "epochs = 10\n",
    "batch_size = 128\n",
    "keep_probability = 1.\n",
    "Checking the Training on a Single Batch...\n",
    "Epoch  1, CIFAR-10 Batch 1:  Loss:  1888.7679 Validation Accuracy: 0.277344\n",
    "Loss:  1297.0829 Validation Accuracy: 0.320312\n",
    "Epoch  2, CIFAR-10 Batch 1:  Loss:  1228.1144 Validation Accuracy: 0.300781\n",
    "Loss:   998.9601 Validation Accuracy: 0.308594\n",
    "Epoch  3, CIFAR-10 Batch 1:  Loss:  1004.8680 Validation Accuracy: 0.343750\n",
    "Epoch  4, CIFAR-10 Batch 1:  Loss:   975.1058 Validation Accuracy: 0.351562\n",
    "Loss:   783.1962 Validation Accuracy: 0.359375\n",
    "Epoch  5, CIFAR-10 Batch 1:  Loss:   619.7383 Validation Accuracy: 0.414062\n",
    "Loss:   521.1402 Validation Accuracy: 0.460938\n",
    "Epoch  6, CIFAR-10 Batch 1:  Loss:   601.1397 Validation Accuracy: 0.390625\n",
    "Epoch  7, CIFAR-10 Batch 1:  Loss:   502.2666 Validation Accuracy: 0.355469\n",
    "Loss:   535.1475 Validation Accuracy: 0.332031\n",
    "Epoch  8, CIFAR-10 Batch 1:  Loss:   367.7122 Validation Accuracy: 0.390625\n",
    "Loss:   541.4989 Validation Accuracy: 0.429688\n",
    "Epoch  9, CIFAR-10 Batch 1:  Loss:   414.5851 Validation Accuracy: 0.382812\n",
    "Loss:   624.8750 Validation Accuracy: 0.359375\n",
    "Epoch 10, CIFAR-10 Batch 1:  Loss:   475.5053 Validation Accuracy: 0.406250\n",
    "\n",
    "\n",
    "<with drop-off>\n",
    "epochs = 5\n",
    "batch_size = 128\n",
    "keep_probability = 0.8\n",
    "Checking the Training on a Single Batch...\n",
    "Epoch  1, CIFAR-10 Batch 1:  Loss:   778.8746 Validation Accuracy: 0.285156\n",
    "Loss:   139.4498 Validation Accuracy: 0.242188\n",
    "Epoch  2, CIFAR-10 Batch 1:  Loss:    37.5648 Validation Accuracy: 0.207031\n",
    "Loss:    19.8876 Validation Accuracy: 0.164062\n",
    "Epoch  3, CIFAR-10 Batch 1:  Loss:    13.2052 Validation Accuracy: 0.164062\n",
    "Epoch  4, CIFAR-10 Batch 1:  Loss:     9.9897 Validation Accuracy: 0.156250\n",
    "Loss:     8.4451 Validation Accuracy: 0.152344\n",
    "Epoch  5, CIFAR-10 Batch 1:  Loss:     5.9928 Validation Accuracy: 0.144531\n",
    "\n",
    "\n",
    "#batch size = 256\n",
    "ResourceExhaustedError                    Traceback (most recent call last)\n",
    "\n",
    "ResourceExhaustedError (see above for traceback): OOM when allocating tensor with shape[256,1024,8,8]\n",
    "\t [[Node: gradients/MaxPool_grad/MaxPoolGrad = MaxPoolGrad[T=DT_FLOAT, data_format=\"NHWC\", ksize=[1, 3, 3, 1], \n",
    "     padding=\"SAME\", strides=[1, 2, 2, 1], _device=\"/job:localhost/replica:0/task:0/gpu:0\"]\n",
    "     (Relu, MaxPool, gradients/Reshape_grad/Reshape)]]\n",
    "\n",
    "```\n",
    "\n",
    "### Fixed the std deviation and added missing relu\n",
    "```\n",
    "epochs = 10\n",
    "batch_size = 128\n",
    "keep_probability = 0.5\n",
    "conv_net_with_smaller_params\n",
    "\n",
    "Checking the Training on a Single Batch...\n",
    "Epoch  1, CIFAR-10 Batch 1:  Loss:     1.8309 Validation Accuracy: 0.351562\n",
    "Loss:     1.6033 Validation Accuracy: 0.390625\n",
    "Epoch  2, CIFAR-10 Batch 1:  Loss:     1.5791 Validation Accuracy: 0.410156\n",
    "Loss:     1.4782 Validation Accuracy: 0.457031\n",
    "Epoch  3, CIFAR-10 Batch 1:  Loss:     1.4255 Validation Accuracy: 0.441406\n",
    "Epoch  4, CIFAR-10 Batch 1:  Loss:     1.3277 Validation Accuracy: 0.464844\n",
    "Loss:     1.5129 Validation Accuracy: 0.464844\n",
    "Epoch  5, CIFAR-10 Batch 1:  Loss:     1.2178 Validation Accuracy: 0.464844\n",
    "Loss:     1.1766 Validation Accuracy: 0.492188\n",
    "Epoch  6, CIFAR-10 Batch 1:  Loss:     1.1193 Validation Accuracy: 0.460938\n",
    "Epoch  7, CIFAR-10 Batch 1:  Loss:     1.0279 Validation Accuracy: 0.515625\n",
    "Loss:     1.1188 Validation Accuracy: 0.492188\n",
    "Epoch  8, CIFAR-10 Batch 1:  Loss:     0.9555 Validation Accuracy: 0.527344\n",
    "Loss:     1.1031 Validation Accuracy: 0.515625\n",
    "Epoch  9, CIFAR-10 Batch 1:  Loss:     0.8845 Validation Accuracy: 0.507812\n",
    "Loss:     1.0983 Validation Accuracy: 0.542969\n",
    "Epoch 10, CIFAR-10 Batch 1:  Loss:     0.8028 Validation Accuracy: 0.523438\n",
    "\n",
    "conv_net_deepmodel\n",
    "Checking the Training on a Single Batch...\n",
    "Epoch  1, CIFAR-10 Batch 1:  Loss:     1.9203 Validation Accuracy: 0.328125\n",
    "Loss:     1.6301 Validation Accuracy: 0.382812\n",
    "Epoch  2, CIFAR-10 Batch 1:  Loss:     1.6751 Validation Accuracy: 0.406250\n",
    "Loss:     1.4358 Validation Accuracy: 0.484375\n",
    "Epoch  3, CIFAR-10 Batch 1:  Loss:     1.4965 Validation Accuracy: 0.417969\n",
    "Epoch  4, CIFAR-10 Batch 1:  Loss:     1.3509 Validation Accuracy: 0.484375\n",
    "Loss:     1.5231 Validation Accuracy: 0.476562\n",
    "Epoch  5, CIFAR-10 Batch 1:  Loss:     1.2706 Validation Accuracy: 0.492188\n",
    "Loss:     1.2231 Validation Accuracy: 0.464844\n",
    "Epoch  6, CIFAR-10 Batch 1:  Loss:     1.1554 Validation Accuracy: 0.488281\n",
    "Epoch  7, CIFAR-10 Batch 1:  Loss:     1.0948 Validation Accuracy: 0.531250\n",
    "Loss:     1.1496 Validation Accuracy: 0.507812\n",
    "Epoch  8, CIFAR-10 Batch 1:  Loss:     1.0313 Validation Accuracy: 0.476562\n",
    "Loss:     1.1796 Validation Accuracy: 0.500000\n",
    "Epoch  9, CIFAR-10 Batch 1:  Loss:     0.9422 Validation Accuracy: 0.535156\n",
    "Loss:     1.1102 Validation Accuracy: 0.554688\n",
    "Epoch 10, CIFAR-10 Batch 1:  Loss:     0.8799 Validation Accuracy: 0.531250\n",
    "\n",
    "```"
   ]
  },
  {
   "cell_type": "markdown",
   "metadata": {
    "deletable": true,
    "editable": true
   },
   "source": [
    "### Train on a Single CIFAR-10 Batch\n",
    "Instead of training the neural network on all the CIFAR-10 batches of data, let's use a single batch. This should save time while you iterate on the model to get a better accuracy.  Once the final validation accuracy is 50% or greater, run the model on all the data in the next section."
   ]
  },
  {
   "cell_type": "code",
   "execution_count": 41,
   "metadata": {
    "collapsed": false,
    "deletable": true,
    "editable": true,
    "scrolled": true
   },
   "outputs": [
    {
     "name": "stdout",
     "output_type": "stream",
     "text": [
      "Checking the Training on a Single Batch...\n",
      "Epoch  1, CIFAR-10 Batch 1:  Loss:     1.8501 Validation Accuracy: 0.355469\n",
      "Loss:     1.5014 Validation Accuracy: 0.433594\n",
      "Epoch  2, CIFAR-10 Batch 1:  Loss:     1.5135 Validation Accuracy: 0.453125\n",
      "Loss:     1.3262 Validation Accuracy: 0.472656\n",
      "Epoch  3, CIFAR-10 Batch 1:  Loss:     1.2729 Validation Accuracy: 0.460938\n",
      "Epoch  4, CIFAR-10 Batch 1:  Loss:     1.1493 Validation Accuracy: 0.492188\n",
      "Loss:     1.3310 Validation Accuracy: 0.472656\n",
      "Epoch  5, CIFAR-10 Batch 1:  Loss:     0.9713 Validation Accuracy: 0.511719\n",
      "Loss:     1.0584 Validation Accuracy: 0.472656\n",
      "Epoch  6, CIFAR-10 Batch 1:  Loss:     0.8622 Validation Accuracy: 0.527344\n",
      "Epoch  7, CIFAR-10 Batch 1:  Loss:     0.7589 Validation Accuracy: 0.503906\n",
      "Loss:     0.9135 Validation Accuracy: 0.515625\n",
      "Epoch  8, CIFAR-10 Batch 1:  Loss:     0.6590 Validation Accuracy: 0.531250\n",
      "Loss:     0.9280 Validation Accuracy: 0.527344\n",
      "Epoch  9, CIFAR-10 Batch 1:  Loss:     0.5689 Validation Accuracy: 0.511719\n",
      "Loss:     0.9116 Validation Accuracy: 0.554688\n",
      "Epoch 10, CIFAR-10 Batch 1:  Loss:     0.5315 Validation Accuracy: 0.542969\n"
     ]
    }
   ],
   "source": [
    "\"\"\"\n",
    "DON'T MODIFY ANYTHING IN THIS CELL\n",
    "\"\"\"\n",
    "print('Checking the Training on a Single Batch...')\n",
    "with tf.Session() as sess:\n",
    "    # Initializing the variables\n",
    "    sess.run(tf.global_variables_initializer())\n",
    "    counter = 0\n",
    "    # Training cycle\n",
    "    for epoch in range(epochs):\n",
    "        batch_i = 1\n",
    "        for batch_features, batch_labels in helper.load_preprocess_training_batch(batch_i, batch_size):\n",
    "            counter = counter + 1\n",
    "            train_neural_network(sess, optimizer, keep_probability, batch_features, batch_labels)\n",
    "            if(counter % 100 == 0):\n",
    "                print_stats(sess, batch_features, batch_labels, cost, accuracy)                \n",
    "        \n",
    "        print('Epoch {:>2}, CIFAR-10 Batch {}:  '.format(epoch + 1, batch_i), end='')\n",
    "        print_stats(sess, batch_features, batch_labels, cost, accuracy)"
   ]
  },
  {
   "cell_type": "markdown",
   "metadata": {
    "deletable": true,
    "editable": true
   },
   "source": [
    "### Fully Train the Model\n",
    "Now that you got a good accuracy with a single CIFAR-10 batch, try it with all five batches."
   ]
  },
  {
   "cell_type": "code",
   "execution_count": 42,
   "metadata": {
    "collapsed": false,
    "deletable": true,
    "editable": true
   },
   "outputs": [
    {
     "name": "stdout",
     "output_type": "stream",
     "text": [
      "Training...\n",
      "Epoch  1, CIFAR-10 Batch 1:  Loss:     1.8121 Validation Accuracy: 0.332031\n",
      "Epoch  1, CIFAR-10 Batch 2:  Loss:     1.5059 Validation Accuracy: 0.425781\n",
      "Epoch  1, CIFAR-10 Batch 3:  Loss:     1.1949 Validation Accuracy: 0.402344\n",
      "Epoch  1, CIFAR-10 Batch 4:  Loss:     1.3102 Validation Accuracy: 0.453125\n",
      "Epoch  1, CIFAR-10 Batch 5:  Loss:     1.3024 Validation Accuracy: 0.531250\n",
      "Epoch  2, CIFAR-10 Batch 1:  Loss:     1.2982 Validation Accuracy: 0.511719\n",
      "Epoch  2, CIFAR-10 Batch 2:  Loss:     1.0966 Validation Accuracy: 0.503906\n",
      "Epoch  2, CIFAR-10 Batch 3:  Loss:     0.9163 Validation Accuracy: 0.488281\n",
      "Epoch  2, CIFAR-10 Batch 4:  Loss:     1.0506 Validation Accuracy: 0.539062\n",
      "Epoch  2, CIFAR-10 Batch 5:  Loss:     1.0647 Validation Accuracy: 0.570312\n",
      "Epoch  3, CIFAR-10 Batch 1:  Loss:     1.1484 Validation Accuracy: 0.554688\n",
      "Epoch  3, CIFAR-10 Batch 2:  Loss:     0.9042 Validation Accuracy: 0.558594\n",
      "Epoch  3, CIFAR-10 Batch 3:  Loss:     0.7219 Validation Accuracy: 0.554688\n",
      "Epoch  3, CIFAR-10 Batch 4:  Loss:     0.8337 Validation Accuracy: 0.554688\n",
      "Epoch  3, CIFAR-10 Batch 5:  Loss:     0.9067 Validation Accuracy: 0.585938\n",
      "Epoch  4, CIFAR-10 Batch 1:  Loss:     1.0154 Validation Accuracy: 0.570312\n",
      "Epoch  4, CIFAR-10 Batch 2:  Loss:     0.7774 Validation Accuracy: 0.582031\n",
      "Epoch  4, CIFAR-10 Batch 3:  Loss:     0.6064 Validation Accuracy: 0.601562\n",
      "Epoch  4, CIFAR-10 Batch 4:  Loss:     0.7022 Validation Accuracy: 0.570312\n",
      "Epoch  4, CIFAR-10 Batch 5:  Loss:     0.8006 Validation Accuracy: 0.585938\n",
      "Epoch  5, CIFAR-10 Batch 1:  Loss:     0.9077 Validation Accuracy: 0.550781\n",
      "Epoch  5, CIFAR-10 Batch 2:  Loss:     0.6375 Validation Accuracy: 0.597656\n",
      "Epoch  5, CIFAR-10 Batch 3:  Loss:     0.5454 Validation Accuracy: 0.585938\n",
      "Epoch  5, CIFAR-10 Batch 4:  Loss:     0.5820 Validation Accuracy: 0.605469\n",
      "Epoch  5, CIFAR-10 Batch 5:  Loss:     0.7099 Validation Accuracy: 0.589844\n",
      "Epoch  6, CIFAR-10 Batch 1:  Loss:     0.7342 Validation Accuracy: 0.609375\n",
      "Epoch  6, CIFAR-10 Batch 2:  Loss:     0.5271 Validation Accuracy: 0.628906\n",
      "Epoch  6, CIFAR-10 Batch 3:  Loss:     0.4473 Validation Accuracy: 0.601562\n",
      "Epoch  6, CIFAR-10 Batch 4:  Loss:     0.5123 Validation Accuracy: 0.613281\n",
      "Epoch  6, CIFAR-10 Batch 5:  Loss:     0.5666 Validation Accuracy: 0.601562\n",
      "Epoch  7, CIFAR-10 Batch 1:  Loss:     0.6851 Validation Accuracy: 0.597656\n",
      "Epoch  7, CIFAR-10 Batch 2:  Loss:     0.4783 Validation Accuracy: 0.601562\n",
      "Epoch  7, CIFAR-10 Batch 3:  Loss:     0.3556 Validation Accuracy: 0.621094\n",
      "Epoch  7, CIFAR-10 Batch 4:  Loss:     0.4276 Validation Accuracy: 0.644531\n",
      "Epoch  7, CIFAR-10 Batch 5:  Loss:     0.4964 Validation Accuracy: 0.640625\n",
      "Epoch  8, CIFAR-10 Batch 1:  Loss:     0.5676 Validation Accuracy: 0.636719\n",
      "Epoch  8, CIFAR-10 Batch 2:  Loss:     0.3704 Validation Accuracy: 0.640625\n",
      "Epoch  8, CIFAR-10 Batch 3:  Loss:     0.3132 Validation Accuracy: 0.593750\n",
      "Epoch  8, CIFAR-10 Batch 4:  Loss:     0.3672 Validation Accuracy: 0.664062\n",
      "Epoch  8, CIFAR-10 Batch 5:  Loss:     0.3765 Validation Accuracy: 0.652344\n",
      "Epoch  9, CIFAR-10 Batch 1:  Loss:     0.4573 Validation Accuracy: 0.640625\n",
      "Epoch  9, CIFAR-10 Batch 2:  Loss:     0.3163 Validation Accuracy: 0.621094\n",
      "Epoch  9, CIFAR-10 Batch 3:  Loss:     0.2394 Validation Accuracy: 0.628906\n",
      "Epoch  9, CIFAR-10 Batch 4:  Loss:     0.2968 Validation Accuracy: 0.671875\n",
      "Epoch  9, CIFAR-10 Batch 5:  Loss:     0.3419 Validation Accuracy: 0.625000\n",
      "Epoch 10, CIFAR-10 Batch 1:  Loss:     0.3594 Validation Accuracy: 0.617188\n",
      "Epoch 10, CIFAR-10 Batch 2:  Loss:     0.2697 Validation Accuracy: 0.636719\n",
      "Epoch 10, CIFAR-10 Batch 3:  Loss:     0.2065 Validation Accuracy: 0.625000\n",
      "Epoch 10, CIFAR-10 Batch 4:  Loss:     0.2425 Validation Accuracy: 0.640625\n",
      "Epoch 10, CIFAR-10 Batch 5:  Loss:     0.2665 Validation Accuracy: 0.664062\n"
     ]
    }
   ],
   "source": [
    "\"\"\"\n",
    "DON'T MODIFY ANYTHING IN THIS CELL\n",
    "\"\"\"\n",
    "save_model_path = './image_classification'\n",
    "\n",
    "print('Training...')\n",
    "with tf.Session() as sess:\n",
    "    # Initializing the variables\n",
    "    sess.run(tf.global_variables_initializer())\n",
    "    \n",
    "    # Training cycle\n",
    "    for epoch in range(epochs):\n",
    "        # Loop over all batches\n",
    "        n_batches = 5\n",
    "        for batch_i in range(1, n_batches + 1):\n",
    "            for batch_features, batch_labels in helper.load_preprocess_training_batch(batch_i, batch_size):\n",
    "                train_neural_network(sess, optimizer, keep_probability, batch_features, batch_labels)\n",
    "            print('Epoch {:>2}, CIFAR-10 Batch {}:  '.format(epoch + 1, batch_i), end='')\n",
    "            print_stats(sess, batch_features, batch_labels, cost, accuracy)\n",
    "            \n",
    "    # Save Model\n",
    "    saver = tf.train.Saver()\n",
    "    save_path = saver.save(sess, save_model_path)"
   ]
  },
  {
   "cell_type": "markdown",
   "metadata": {
    "deletable": true,
    "editable": true
   },
   "source": [
    "# Checkpoint\n",
    "The model has been saved to disk.\n",
    "## Test Model\n",
    "Test your model against the test dataset.  This will be your final accuracy. You should have an accuracy greater than 50%. If you don't, keep tweaking the model architecture and parameters."
   ]
  },
  {
   "cell_type": "code",
   "execution_count": 43,
   "metadata": {
    "collapsed": false,
    "deletable": true,
    "editable": true
   },
   "outputs": [
    {
     "name": "stdout",
     "output_type": "stream",
     "text": [
      "Testing Accuracy: 0.6731606012658228\n",
      "\n"
     ]
    },
    {
     "data": {
      "image/png": "[encoded data removed]",
      "text/plain": [
       "<matplotlib.figure.Figure at 0x7f44700b3f98>"
      ]
     },
     "metadata": {
      "image/png": {
       "height": 319,
       "width": 355
      }
     },
     "output_type": "display_data"
    }
   ],
   "source": [
    "\"\"\"\n",
    "DON'T MODIFY ANYTHING IN THIS CELL\n",
    "\"\"\"\n",
    "%matplotlib inline\n",
    "%config InlineBackend.figure_format = 'retina'\n",
    "\n",
    "import tensorflow as tf\n",
    "import pickle\n",
    "import helper\n",
    "import random\n",
    "\n",
    "# Set batch size if not already set\n",
    "try:\n",
    "    if batch_size:\n",
    "        pass\n",
    "except NameError:\n",
    "    batch_size = 64\n",
    "\n",
    "save_model_path = './image_classification'\n",
    "n_samples = 4\n",
    "top_n_predictions = 3\n",
    "\n",
    "def test_model():\n",
    "    \"\"\"\n",
    "    Test the saved model against the test dataset\n",
    "    \"\"\"\n",
    "\n",
    "    test_features, test_labels = pickle.load(open('preprocess_training.p', mode='rb'))\n",
    "    loaded_graph = tf.Graph()\n",
    "\n",
    "    with tf.Session(graph=loaded_graph) as sess:\n",
    "        # Load model\n",
    "        loader = tf.train.import_meta_graph(save_model_path + '.meta')\n",
    "        loader.restore(sess, save_model_path)\n",
    "\n",
    "        # Get Tensors from loaded model\n",
    "        loaded_x = loaded_graph.get_tensor_by_name('x:0')\n",
    "        loaded_y = loaded_graph.get_tensor_by_name('y:0')\n",
    "        loaded_keep_prob = loaded_graph.get_tensor_by_name('keep_prob:0')\n",
    "        loaded_logits = loaded_graph.get_tensor_by_name('logits:0')\n",
    "        loaded_acc = loaded_graph.get_tensor_by_name('accuracy:0')\n",
    "        \n",
    "        # Get accuracy in batches for memory limitations\n",
    "        test_batch_acc_total = 0\n",
    "        test_batch_count = 0\n",
    "        \n",
    "        for train_feature_batch, train_label_batch in helper.batch_features_labels(test_features, test_labels, batch_size):\n",
    "            test_batch_acc_total += sess.run(\n",
    "                loaded_acc,\n",
    "                feed_dict={loaded_x: train_feature_batch, loaded_y: train_label_batch, loaded_keep_prob: 1.0})\n",
    "            test_batch_count += 1\n",
    "\n",
    "        print('Testing Accuracy: {}\\n'.format(test_batch_acc_total/test_batch_count))\n",
    "\n",
    "        # Print Random Samples\n",
    "        random_test_features, random_test_labels = tuple(zip(*random.sample(list(zip(test_features, test_labels)), n_samples)))\n",
    "        random_test_predictions = sess.run(\n",
    "            tf.nn.top_k(tf.nn.softmax(loaded_logits), top_n_predictions),\n",
    "            feed_dict={loaded_x: random_test_features, loaded_y: random_test_labels, loaded_keep_prob: 1.0})\n",
    "        helper.display_image_predictions(random_test_features, random_test_labels, random_test_predictions)\n",
    "\n",
    "\n",
    "test_model()"
   ]
  },
  {
   "cell_type": "markdown",
   "metadata": {
    "deletable": true,
    "editable": true
   },
   "source": [
    "## Why 50-70% Accuracy?\n",
    "You might be wondering why you can't get an accuracy any higher. First things first, 50% isn't bad for a simple CNN.  Pure guessing would get you 10% accuracy. However, you might notice people are getting scores [well above 70%](http://rodrigob.github.io/are_we_there_yet/build/classification_datasets_results.html#43494641522d3130).  That's because we haven't taught you all there is to know about neural networks. We still need to cover a few more techniques.\n",
    "## Submitting This Project\n",
    "When submitting this project, make sure to run all the cells before saving the notebook.  Save the notebook file as \"dlnd_image_classification.ipynb\" and save it as a HTML file under \"File\" -> \"Download as\".  Include the \"helper.py\" and \"problem_unittests.py\" files in your submission."
   ]
  }
 ],
 "metadata": {
  "kernelspec": {
   "display_name": "Python 3",
   "language": "python",
   "name": "python3"
  },
  "language_info": {
   "codemirror_mode": {
    "name": "ipython",
    "version": 3
   },
   "file_extension": ".py",
   "mimetype": "text/x-python",
   "name": "python",
   "nbconvert_exporter": "python",
   "pygments_lexer": "ipython3",
   "version": "3.5.3"
  },
  "widgets": {
   "state": {},
   "version": "1.1.2"
  }
 },
 "nbformat": 4,
 "nbformat_minor": 0
}
