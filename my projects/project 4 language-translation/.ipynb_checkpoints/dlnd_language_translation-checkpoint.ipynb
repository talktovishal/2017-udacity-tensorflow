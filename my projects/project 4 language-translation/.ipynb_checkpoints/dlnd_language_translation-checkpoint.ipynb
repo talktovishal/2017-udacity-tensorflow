{
 "cells": [
  {
   "cell_type": "markdown",
   "metadata": {
    "collapsed": true,
    "deletable": true,
    "editable": true
   },
   "source": [
    "# Language Translation\n",
    "In this project, you’re going to take a peek into the realm of neural network machine translation.  You’ll be training a sequence to sequence model on a dataset of English and French sentences that can translate new sentences from English to French.\n",
    "## Get the Data\n",
    "Since translating the whole language of English to French will take lots of time to train, we have provided you with a small portion of the English corpus."
   ]
  },
  {
   "cell_type": "code",
   "execution_count": 1,
   "metadata": {
    "collapsed": true,
    "deletable": true,
    "editable": true
   },
   "outputs": [],
   "source": [
    "\"\"\"\n",
    "DON'T MODIFY ANYTHING IN THIS CELL\n",
    "\"\"\"\n",
    "import helper\n",
    "import problem_unittests as tests\n",
    "\n",
    "source_path = 'data/small_vocab_en'\n",
    "target_path = 'data/small_vocab_fr'\n",
    "source_text = helper.load_data(source_path)\n",
    "target_text = helper.load_data(target_path)"
   ]
  },
  {
   "cell_type": "markdown",
   "metadata": {
    "deletable": true,
    "editable": true
   },
   "source": [
    "## Explore the Data\n",
    "Play around with view_sentence_range to view different parts of the data."
   ]
  },
  {
   "cell_type": "code",
   "execution_count": 2,
   "metadata": {
    "collapsed": false,
    "deletable": true,
    "editable": true
   },
   "outputs": [
    {
     "name": "stdout",
     "output_type": "stream",
     "text": [
      "Dataset Stats\n",
      "Roughly the number of unique words: 227\n",
      "Number of sentences: 137861\n",
      "Average number of words in a sentence: 13.225277634719028\n",
      "\n",
      "English sentences 0 to 10:\n",
      "new jersey is sometimes quiet during autumn , and it is snowy in april .\n",
      "the united states is usually chilly during july , and it is usually freezing in november .\n",
      "california is usually quiet during march , and it is usually hot in june .\n",
      "the united states is sometimes mild during june , and it is cold in september .\n",
      "your least liked fruit is the grape , but my least liked is the apple .\n",
      "his favorite fruit is the orange , but my favorite is the grape .\n",
      "paris is relaxing during december , but it is usually chilly in july .\n",
      "new jersey is busy during spring , and it is never hot in march .\n",
      "our least liked fruit is the lemon , but my least liked is the grape .\n",
      "the united states is sometimes busy during january , and it is sometimes warm in november .\n",
      "\n",
      "French sentences 0 to 10:\n",
      "new jersey est parfois calme pendant l' automne , et il est neigeux en avril .\n",
      "les états-unis est généralement froid en juillet , et il gèle habituellement en novembre .\n",
      "california est généralement calme en mars , et il est généralement chaud en juin .\n",
      "les états-unis est parfois légère en juin , et il fait froid en septembre .\n",
      "votre moins aimé fruit est le raisin , mais mon moins aimé est la pomme .\n",
      "son fruit préféré est l'orange , mais mon préféré est le raisin .\n",
      "paris est relaxant en décembre , mais il est généralement froid en juillet .\n",
      "new jersey est occupé au printemps , et il est jamais chaude en mars .\n",
      "notre fruit est moins aimé le citron , mais mon moins aimé est le raisin .\n",
      "les états-unis est parfois occupé en janvier , et il est parfois chaud en novembre .\n"
     ]
    }
   ],
   "source": [
    "view_sentence_range = (0, 10)\n",
    "\n",
    "\"\"\"\n",
    "DON'T MODIFY ANYTHING IN THIS CELL\n",
    "\"\"\"\n",
    "import numpy as np\n",
    "\n",
    "print('Dataset Stats')\n",
    "print('Roughly the number of unique words: {}'.format(len({word: None for word in source_text.split()})))\n",
    "\n",
    "sentences = source_text.split('\\n')\n",
    "word_counts = [len(sentence.split()) for sentence in sentences]\n",
    "print('Number of sentences: {}'.format(len(sentences)))\n",
    "print('Average number of words in a sentence: {}'.format(np.average(word_counts)))\n",
    "\n",
    "print()\n",
    "print('English sentences {} to {}:'.format(*view_sentence_range))\n",
    "print('\\n'.join(source_text.split('\\n')[view_sentence_range[0]:view_sentence_range[1]]))\n",
    "print()\n",
    "print('French sentences {} to {}:'.format(*view_sentence_range))\n",
    "print('\\n'.join(target_text.split('\\n')[view_sentence_range[0]:view_sentence_range[1]]))"
   ]
  },
  {
   "cell_type": "markdown",
   "metadata": {
    "deletable": true,
    "editable": true
   },
   "source": [
    "## Implement Preprocessing Function\n",
    "### Text to Word Ids\n",
    "As you did with other RNNs, you must turn the text into a number so the computer can understand it. In the function `text_to_ids()`, you'll turn `source_text` and `target_text` from words to ids.  However, you need to add the `<EOS>` word id at the end of `target_text`.  This will help the neural network predict when the sentence should end.\n",
    "\n",
    "You can get the `<EOS>` word id by doing:\n",
    "```python\n",
    "target_vocab_to_int['<EOS>']\n",
    "```\n",
    "You can get other word ids using `source_vocab_to_int` and `target_vocab_to_int`."
   ]
  },
  {
   "cell_type": "code",
   "execution_count": 7,
   "metadata": {
    "collapsed": false,
    "deletable": true,
    "editable": true
   },
   "outputs": [
    {
     "name": "stdout",
     "output_type": "stream",
     "text": [
      "Tests Passed\n"
     ]
    }
   ],
   "source": [
    "def text_to_ids(source_text, target_text, source_vocab_to_int, target_vocab_to_int):\n",
    "    \"\"\"\n",
    "    Convert source and target text to proper word ids\n",
    "    :param source_text: String that contains all the source text.\n",
    "    :param target_text: String that contains all the target text.\n",
    "    :param source_vocab_to_int: Dictionary to go from the source words to an id\n",
    "    :param target_vocab_to_int: Dictionary to go from the target words to an id\n",
    "    :return: A tuple of lists (source_id_text, target_id_text)\n",
    "    \"\"\"\n",
    "    # TODO: Implement Function\n",
    "    #print(source_text)\n",
    "    #print(target_text)\n",
    "    source_token_ids = []\n",
    "    target_token_ids = []\n",
    "\n",
    "    for srcLine in source_text.split('\\n'):\n",
    "        src_line_token_ids = []\n",
    "        for srcWord in srcLine.split():\n",
    "            src_line_token_ids.append(source_vocab_to_int[srcWord])\n",
    "        source_token_ids.append(src_line_token_ids)\n",
    "        \n",
    "    for tgtLine in target_text.split('\\n'):\n",
    "        tgt_line_token_ids = []\n",
    "        for tgtWord in tgtLine.split():\n",
    "            tgt_line_token_ids.append(target_vocab_to_int[tgtWord])\n",
    "        tgt_line_token_ids.append(target_vocab_to_int['<EOS>'])\n",
    "        target_token_ids.append(tgt_line_token_ids)\n",
    "\n",
    "    \n",
    "    #print(source_token_ids)\n",
    "    #print(target_token_ids)\n",
    "    return source_token_ids, target_token_ids\n",
    "\n",
    "\"\"\"\n",
    "DON'T MODIFY ANYTHING IN THIS CELL THAT IS BELOW THIS LINE\n",
    "\"\"\"\n",
    "tests.test_text_to_ids(text_to_ids)"
   ]
  },
  {
   "cell_type": "markdown",
   "metadata": {
    "deletable": true,
    "editable": true
   },
   "source": [
    "### Preprocess all the data and save it\n",
    "Running the code cell below will preprocess all the data and save it to file."
   ]
  },
  {
   "cell_type": "code",
   "execution_count": 8,
   "metadata": {
    "collapsed": true,
    "deletable": true,
    "editable": true
   },
   "outputs": [],
   "source": [
    "\"\"\"\n",
    "DON'T MODIFY ANYTHING IN THIS CELL\n",
    "\"\"\"\n",
    "helper.preprocess_and_save_data(source_path, target_path, text_to_ids)"
   ]
  },
  {
   "cell_type": "markdown",
   "metadata": {
    "deletable": true,
    "editable": true
   },
   "source": [
    "# Check Point\n",
    "This is your first checkpoint. If you ever decide to come back to this notebook or have to restart the notebook, you can start from here. The preprocessed data has been saved to disk."
   ]
  },
  {
   "cell_type": "code",
   "execution_count": 1,
   "metadata": {
    "collapsed": true,
    "deletable": true,
    "editable": true
   },
   "outputs": [],
   "source": [
    "\"\"\"\n",
    "DON'T MODIFY ANYTHING IN THIS CELL\n",
    "\"\"\"\n",
    "import numpy as np\n",
    "import helper\n",
    "import problem_unittests as tests\n",
    "\n",
    "(source_int_text, target_int_text), (source_vocab_to_int, target_vocab_to_int), _ = helper.load_preprocess()"
   ]
  },
  {
   "cell_type": "markdown",
   "metadata": {
    "deletable": true,
    "editable": true
   },
   "source": [
    "### Check the Version of TensorFlow and Access to GPU\n",
    "This will check to make sure you have the correct version of TensorFlow and access to a GPU"
   ]
  },
  {
   "cell_type": "code",
   "execution_count": 2,
   "metadata": {
    "collapsed": false,
    "deletable": true,
    "editable": true
   },
   "outputs": [
    {
     "name": "stdout",
     "output_type": "stream",
     "text": [
      "TensorFlow Version: 1.2.1\n",
      "Default GPU Device: /gpu:0\n"
     ]
    }
   ],
   "source": [
    "\"\"\"\n",
    "DON'T MODIFY ANYTHING IN THIS CELL\n",
    "\"\"\"\n",
    "from distutils.version import LooseVersion\n",
    "import warnings\n",
    "import tensorflow as tf\n",
    "from tensorflow.python.layers.core import Dense\n",
    "\n",
    "# Check TensorFlow Version\n",
    "assert LooseVersion(tf.__version__) >= LooseVersion('1.1'), 'Please use TensorFlow version 1.1 or newer'\n",
    "print('TensorFlow Version: {}'.format(tf.__version__))\n",
    "\n",
    "# Check for a GPU\n",
    "if not tf.test.gpu_device_name():\n",
    "    warnings.warn('No GPU found. Please use a GPU to train your neural network.')\n",
    "else:\n",
    "    print('Default GPU Device: {}'.format(tf.test.gpu_device_name()))"
   ]
  },
  {
   "cell_type": "markdown",
   "metadata": {
    "deletable": true,
    "editable": true
   },
   "source": [
    "## Build the Neural Network\n",
    "You'll build the components necessary to build a Sequence-to-Sequence model by implementing the following functions below:\n",
    "- `model_inputs`\n",
    "- `process_decoder_input`\n",
    "- `encoding_layer`\n",
    "- `decoding_layer_train`\n",
    "- `decoding_layer_infer`\n",
    "- `decoding_layer`\n",
    "- `seq2seq_model`\n",
    "\n",
    "### Input\n",
    "Implement the `model_inputs()` function to create TF Placeholders for the Neural Network. It should create the following placeholders:\n",
    "\n",
    "- Input text placeholder named \"input\" using the TF Placeholder name parameter with rank 2.\n",
    "- Targets placeholder with rank 2.\n",
    "- Learning rate placeholder with rank 0.\n",
    "- Keep probability placeholder named \"keep_prob\" using the TF Placeholder name parameter with rank 0.\n",
    "- Target sequence length placeholder named \"target_sequence_length\" with rank 1\n",
    "- Max target sequence length tensor named \"max_target_len\" getting its value from applying tf.reduce_max on the target_sequence_length placeholder. Rank 0.\n",
    "- Source sequence length placeholder named \"source_sequence_length\" with rank 1\n",
    "\n",
    "Return the placeholders in the following the tuple (input, targets, learning rate, keep probability, target sequence length, max target sequence length, source sequence length)"
   ]
  },
  {
   "cell_type": "code",
   "execution_count": 3,
   "metadata": {
    "collapsed": false,
    "deletable": true,
    "editable": true,
    "scrolled": true
   },
   "outputs": [
    {
     "name": "stdout",
     "output_type": "stream",
     "text": [
      "ERROR:tensorflow:==================================\n",
      "Object was never used (type <class 'tensorflow.python.framework.ops.Operation'>):\n",
      "<tf.Operation 'assert_rank_2/Assert/Assert' type=Assert>\n",
      "If you want to mark it as used call its \"mark_used()\" method.\n",
      "It was originally created here:\n",
      "['File \"c:\\\\program files\\\\python35\\\\lib\\\\runpy.py\", line 193, in _run_module_as_main\\n    \"__main__\", mod_spec)', 'File \"c:\\\\program files\\\\python35\\\\lib\\\\runpy.py\", line 85, in _run_code\\n    exec(code, run_globals)', 'File \"c:\\\\program files\\\\python35\\\\lib\\\\site-packages\\\\ipykernel\\\\__main__.py\", line 3, in <module>\\n    app.launch_new_instance()', 'File \"c:\\\\program files\\\\python35\\\\lib\\\\site-packages\\\\traitlets\\\\config\\\\application.py\", line 658, in launch_instance\\n    app.start()', 'File \"c:\\\\program files\\\\python35\\\\lib\\\\site-packages\\\\ipykernel\\\\kernelapp.py\", line 474, in start\\n    ioloop.IOLoop.instance().start()', 'File \"c:\\\\program files\\\\python35\\\\lib\\\\site-packages\\\\zmq\\\\eventloop\\\\ioloop.py\", line 177, in start\\n    super(ZMQIOLoop, self).start()', 'File \"c:\\\\program files\\\\python35\\\\lib\\\\site-packages\\\\tornado\\\\ioloop.py\", line 887, in start\\n    handler_func(fd_obj, events)', 'File \"c:\\\\program files\\\\python35\\\\lib\\\\site-packages\\\\tornado\\\\stack_context.py\", line 275, in null_wrapper\\n    return fn(*args, **kwargs)', 'File \"c:\\\\program files\\\\python35\\\\lib\\\\site-packages\\\\zmq\\\\eventloop\\\\zmqstream.py\", line 440, in _handle_events\\n    self._handle_recv()', 'File \"c:\\\\program files\\\\python35\\\\lib\\\\site-packages\\\\zmq\\\\eventloop\\\\zmqstream.py\", line 472, in _handle_recv\\n    self._run_callback(callback, msg)', 'File \"c:\\\\program files\\\\python35\\\\lib\\\\site-packages\\\\zmq\\\\eventloop\\\\zmqstream.py\", line 414, in _run_callback\\n    callback(*args, **kwargs)', 'File \"c:\\\\program files\\\\python35\\\\lib\\\\site-packages\\\\tornado\\\\stack_context.py\", line 275, in null_wrapper\\n    return fn(*args, **kwargs)', 'File \"c:\\\\program files\\\\python35\\\\lib\\\\site-packages\\\\ipykernel\\\\kernelbase.py\", line 276, in dispatcher\\n    return self.dispatch_shell(stream, msg)', 'File \"c:\\\\program files\\\\python35\\\\lib\\\\site-packages\\\\ipykernel\\\\kernelbase.py\", line 228, in dispatch_shell\\n    handler(stream, idents, msg)', 'File \"c:\\\\program files\\\\python35\\\\lib\\\\site-packages\\\\ipykernel\\\\kernelbase.py\", line 390, in execute_request\\n    user_expressions, allow_stdin)', 'File \"c:\\\\program files\\\\python35\\\\lib\\\\site-packages\\\\ipykernel\\\\ipkernel.py\", line 196, in do_execute\\n    res = shell.run_cell(code, store_history=store_history, silent=silent)', 'File \"c:\\\\program files\\\\python35\\\\lib\\\\site-packages\\\\ipykernel\\\\zmqshell.py\", line 501, in run_cell\\n    return super(ZMQInteractiveShell, self).run_cell(*args, **kwargs)', 'File \"c:\\\\program files\\\\python35\\\\lib\\\\site-packages\\\\IPython\\\\core\\\\interactiveshell.py\", line 2717, in run_cell\\n    interactivity=interactivity, compiler=compiler, result=result)', 'File \"c:\\\\program files\\\\python35\\\\lib\\\\site-packages\\\\IPython\\\\core\\\\interactiveshell.py\", line 2827, in run_ast_nodes\\n    if self.run_code(code, result):', 'File \"c:\\\\program files\\\\python35\\\\lib\\\\site-packages\\\\IPython\\\\core\\\\interactiveshell.py\", line 2881, in run_code\\n    exec(code_obj, self.user_global_ns, self.user_ns)', 'File \"<ipython-input-3-2e6796aa2de3>\", line 21, in <module>\\n    tests.test_model_inputs(model_inputs)', 'File \"C:\\\\Users\\\\vishalc\\\\OneDrive\\\\Documents\\\\GitHub\\\\2017-udacity-tensorflow\\\\my projects\\\\project 4 language-translation\\\\problem_unittests.py\", line 106, in test_model_inputs\\n    assert tf.assert_rank(lr, 0, message=\\'Learning Rate has wrong rank\\')', 'File \"c:\\\\program files\\\\python35\\\\lib\\\\site-packages\\\\tensorflow\\\\python\\\\ops\\\\check_ops.py\", line 617, in assert_rank\\n    dynamic_condition, data, summarize)', 'File \"c:\\\\program files\\\\python35\\\\lib\\\\site-packages\\\\tensorflow\\\\python\\\\ops\\\\check_ops.py\", line 571, in _assert_rank_condition\\n    return control_flow_ops.Assert(condition, data, summarize=summarize)', 'File \"c:\\\\program files\\\\python35\\\\lib\\\\site-packages\\\\tensorflow\\\\python\\\\util\\\\tf_should_use.py\", line 170, in wrapped\\n    return _add_should_use_warning(fn(*args, **kwargs))', 'File \"c:\\\\program files\\\\python35\\\\lib\\\\site-packages\\\\tensorflow\\\\python\\\\util\\\\tf_should_use.py\", line 139, in _add_should_use_warning\\n    wrapped = TFShouldUseWarningWrapper(x)', 'File \"c:\\\\program files\\\\python35\\\\lib\\\\site-packages\\\\tensorflow\\\\python\\\\util\\\\tf_should_use.py\", line 96, in __init__\\n    stack = [s.strip() for s in traceback.format_stack()]']\n",
      "==================================\n",
      "ERROR:tensorflow:==================================\n",
      "Object was never used (type <class 'tensorflow.python.framework.ops.Operation'>):\n",
      "<tf.Operation 'assert_rank_3/Assert/Assert' type=Assert>\n",
      "If you want to mark it as used call its \"mark_used()\" method.\n",
      "It was originally created here:\n",
      "['File \"c:\\\\program files\\\\python35\\\\lib\\\\runpy.py\", line 193, in _run_module_as_main\\n    \"__main__\", mod_spec)', 'File \"c:\\\\program files\\\\python35\\\\lib\\\\runpy.py\", line 85, in _run_code\\n    exec(code, run_globals)', 'File \"c:\\\\program files\\\\python35\\\\lib\\\\site-packages\\\\ipykernel\\\\__main__.py\", line 3, in <module>\\n    app.launch_new_instance()', 'File \"c:\\\\program files\\\\python35\\\\lib\\\\site-packages\\\\traitlets\\\\config\\\\application.py\", line 658, in launch_instance\\n    app.start()', 'File \"c:\\\\program files\\\\python35\\\\lib\\\\site-packages\\\\ipykernel\\\\kernelapp.py\", line 474, in start\\n    ioloop.IOLoop.instance().start()', 'File \"c:\\\\program files\\\\python35\\\\lib\\\\site-packages\\\\zmq\\\\eventloop\\\\ioloop.py\", line 177, in start\\n    super(ZMQIOLoop, self).start()', 'File \"c:\\\\program files\\\\python35\\\\lib\\\\site-packages\\\\tornado\\\\ioloop.py\", line 887, in start\\n    handler_func(fd_obj, events)', 'File \"c:\\\\program files\\\\python35\\\\lib\\\\site-packages\\\\tornado\\\\stack_context.py\", line 275, in null_wrapper\\n    return fn(*args, **kwargs)', 'File \"c:\\\\program files\\\\python35\\\\lib\\\\site-packages\\\\zmq\\\\eventloop\\\\zmqstream.py\", line 440, in _handle_events\\n    self._handle_recv()', 'File \"c:\\\\program files\\\\python35\\\\lib\\\\site-packages\\\\zmq\\\\eventloop\\\\zmqstream.py\", line 472, in _handle_recv\\n    self._run_callback(callback, msg)', 'File \"c:\\\\program files\\\\python35\\\\lib\\\\site-packages\\\\zmq\\\\eventloop\\\\zmqstream.py\", line 414, in _run_callback\\n    callback(*args, **kwargs)', 'File \"c:\\\\program files\\\\python35\\\\lib\\\\site-packages\\\\tornado\\\\stack_context.py\", line 275, in null_wrapper\\n    return fn(*args, **kwargs)', 'File \"c:\\\\program files\\\\python35\\\\lib\\\\site-packages\\\\ipykernel\\\\kernelbase.py\", line 276, in dispatcher\\n    return self.dispatch_shell(stream, msg)', 'File \"c:\\\\program files\\\\python35\\\\lib\\\\site-packages\\\\ipykernel\\\\kernelbase.py\", line 228, in dispatch_shell\\n    handler(stream, idents, msg)', 'File \"c:\\\\program files\\\\python35\\\\lib\\\\site-packages\\\\ipykernel\\\\kernelbase.py\", line 390, in execute_request\\n    user_expressions, allow_stdin)', 'File \"c:\\\\program files\\\\python35\\\\lib\\\\site-packages\\\\ipykernel\\\\ipkernel.py\", line 196, in do_execute\\n    res = shell.run_cell(code, store_history=store_history, silent=silent)', 'File \"c:\\\\program files\\\\python35\\\\lib\\\\site-packages\\\\ipykernel\\\\zmqshell.py\", line 501, in run_cell\\n    return super(ZMQInteractiveShell, self).run_cell(*args, **kwargs)', 'File \"c:\\\\program files\\\\python35\\\\lib\\\\site-packages\\\\IPython\\\\core\\\\interactiveshell.py\", line 2717, in run_cell\\n    interactivity=interactivity, compiler=compiler, result=result)', 'File \"c:\\\\program files\\\\python35\\\\lib\\\\site-packages\\\\IPython\\\\core\\\\interactiveshell.py\", line 2827, in run_ast_nodes\\n    if self.run_code(code, result):', 'File \"c:\\\\program files\\\\python35\\\\lib\\\\site-packages\\\\IPython\\\\core\\\\interactiveshell.py\", line 2881, in run_code\\n    exec(code_obj, self.user_global_ns, self.user_ns)', 'File \"<ipython-input-3-2e6796aa2de3>\", line 21, in <module>\\n    tests.test_model_inputs(model_inputs)', 'File \"C:\\\\Users\\\\vishalc\\\\OneDrive\\\\Documents\\\\GitHub\\\\2017-udacity-tensorflow\\\\my projects\\\\project 4 language-translation\\\\problem_unittests.py\", line 107, in test_model_inputs\\n    assert tf.assert_rank(keep_prob, 0, message=\\'Keep Probability has wrong rank\\')', 'File \"c:\\\\program files\\\\python35\\\\lib\\\\site-packages\\\\tensorflow\\\\python\\\\ops\\\\check_ops.py\", line 617, in assert_rank\\n    dynamic_condition, data, summarize)', 'File \"c:\\\\program files\\\\python35\\\\lib\\\\site-packages\\\\tensorflow\\\\python\\\\ops\\\\check_ops.py\", line 571, in _assert_rank_condition\\n    return control_flow_ops.Assert(condition, data, summarize=summarize)', 'File \"c:\\\\program files\\\\python35\\\\lib\\\\site-packages\\\\tensorflow\\\\python\\\\util\\\\tf_should_use.py\", line 170, in wrapped\\n    return _add_should_use_warning(fn(*args, **kwargs))', 'File \"c:\\\\program files\\\\python35\\\\lib\\\\site-packages\\\\tensorflow\\\\python\\\\util\\\\tf_should_use.py\", line 139, in _add_should_use_warning\\n    wrapped = TFShouldUseWarningWrapper(x)', 'File \"c:\\\\program files\\\\python35\\\\lib\\\\site-packages\\\\tensorflow\\\\python\\\\util\\\\tf_should_use.py\", line 96, in __init__\\n    stack = [s.strip() for s in traceback.format_stack()]']\n",
      "==================================\n",
      "Tests Passed\n"
     ]
    }
   ],
   "source": [
    "def model_inputs():\n",
    "    \"\"\"\n",
    "    Create TF Placeholders for input, targets, learning rate, and lengths of source and target sequences.\n",
    "    :return: Tuple (input, targets, learning rate, keep probability, target sequence length,\n",
    "    max target sequence length, source sequence length)\n",
    "    \"\"\"\n",
    "    inputs = tf.placeholder(tf.int32, [None, None], name = 'input')\n",
    "    targets = tf.placeholder(tf.int32, [None, None], name = 'targets')\n",
    "    learning_rate = tf.placeholder(tf.float32, name='learning_rate')\n",
    "    keep_prob = tf.placeholder(tf.float32, name='keep_prob')\n",
    "    target_sequence_length = tf.placeholder(tf.int32, (None,), name='target_sequence_length')\n",
    "    max_target_len = tf.reduce_max(target_sequence_length, name='max_target_len')\n",
    "    source_sequence_length = tf.placeholder(tf.int32, (None,), name='source_sequence_length')\n",
    "    \n",
    "    return inputs, targets, learning_rate, keep_prob, target_sequence_length, max_target_len, source_sequence_length\n",
    "\n",
    "\n",
    "\"\"\"\n",
    "DON'T MODIFY ANYTHING IN THIS CELL THAT IS BELOW THIS LINE\n",
    "\"\"\"\n",
    "tests.test_model_inputs(model_inputs)"
   ]
  },
  {
   "cell_type": "markdown",
   "metadata": {
    "deletable": true,
    "editable": true
   },
   "source": [
    "### Process Decoder Input\n",
    "Implement `process_decoder_input` by removing the last word id from each batch in `target_data` and concat the GO ID to the begining of each batch."
   ]
  },
  {
   "cell_type": "code",
   "execution_count": 5,
   "metadata": {
    "collapsed": false,
    "deletable": true,
    "editable": true
   },
   "outputs": [
    {
     "name": "stdout",
     "output_type": "stream",
     "text": [
      "Tests Passed\n"
     ]
    }
   ],
   "source": [
    "def process_decoder_input(target_data, target_vocab_to_int, batch_size):\n",
    "    \"\"\"\n",
    "    Preprocess target data for encoding\n",
    "    :param target_data: Target Placehoder\n",
    "    :param target_vocab_to_int: Dictionary to go from the target words to an id\n",
    "    :param batch_size: Batch Size\n",
    "    :return: Preprocessed target data\n",
    "    \"\"\"\n",
    "    '''Remove the last word id from each batch and concat the <GO> to the begining of each batch'''\n",
    "    \"\"\"\n",
    "    For more details, refer to \n",
    "    1. https://github.com/udacity/deep-learning/blob/master/seq2seq/sequence_to_sequence_implementation.ipynb\n",
    "    2. https://stackoverflow.com/questions/41380126/what-does-tf-strided-slice-do\n",
    "    \"\"\"\n",
    "    ending = tf.strided_slice(target_data, [0, 0], [batch_size, -1], [1, 1])\n",
    "    dec_input = tf.concat([tf.fill([batch_size, 1], target_vocab_to_int['<GO>']), ending], 1)\n",
    "    \n",
    "    return dec_input\n",
    "\n",
    "\"\"\"\n",
    "DON'T MODIFY ANYTHING IN THIS CELL THAT IS BELOW THIS LINE\n",
    "\"\"\"\n",
    "tests.test_process_encoding_input(process_decoder_input)"
   ]
  },
  {
   "cell_type": "markdown",
   "metadata": {
    "deletable": true,
    "editable": true
   },
   "source": [
    "### Encoding\n",
    "Implement `encoding_layer()` to create a Encoder RNN layer:\n",
    " * Embed the encoder input using [`tf.contrib.layers.embed_sequence`](https://www.tensorflow.org/api_docs/python/tf/contrib/layers/embed_sequence)\n",
    " * Construct a [stacked](https://github.com/tensorflow/tensorflow/blob/6947f65a374ebf29e74bb71e36fd82760056d82c/tensorflow/docs_src/tutorials/recurrent.md#stacking-multiple-lstms) [`tf.contrib.rnn.LSTMCell`](https://www.tensorflow.org/api_docs/python/tf/contrib/rnn/LSTMCell) wrapped in a [`tf.contrib.rnn.DropoutWrapper`](https://www.tensorflow.org/api_docs/python/tf/contrib/rnn/DropoutWrapper)\n",
    " * Pass cell and embedded input to [`tf.nn.dynamic_rnn()`](https://www.tensorflow.org/api_docs/python/tf/nn/dynamic_rnn)"
   ]
  },
  {
   "cell_type": "code",
   "execution_count": 6,
   "metadata": {
    "collapsed": false,
    "deletable": true,
    "editable": true,
    "scrolled": false
   },
   "outputs": [
    {
     "name": "stdout",
     "output_type": "stream",
     "text": [
      "Tests Passed\n"
     ]
    }
   ],
   "source": [
    "from imp import reload\n",
    "reload(tests)\n",
    "\n",
    "def encoding_layer(rnn_inputs, rnn_size, num_layers, keep_prob, \n",
    "                   source_sequence_length, source_vocab_size, \n",
    "                   encoding_embedding_size):\n",
    "    \"\"\"\n",
    "    Create encoding layer\n",
    "    :param rnn_inputs: Inputs for the RNN\n",
    "    :param rnn_size: RNN Size\n",
    "    :param num_layers: Number of layers\n",
    "    :param keep_prob: Dropout keep probability\n",
    "    :param source_sequence_length: a list of the lengths of each sequence in the batch\n",
    "    :param source_vocab_size: vocabulary size of source data\n",
    "    :param encoding_embedding_size: embedding size of source data\n",
    "    :return: tuple (RNN output, RNN state)\n",
    "    \"\"\"\n",
    "    # Encoder embedding\n",
    "    encoder_embed_input = tf.contrib.layers.embed_sequence(rnn_inputs, source_vocab_size, encoding_embedding_size)\n",
    "\n",
    "    # RNN cell\n",
    "    def make_cell(rnn_size):\n",
    "        lstm_cell = tf.contrib.rnn.LSTMCell(rnn_size,\n",
    "                                           initializer=tf.random_uniform_initializer(-0.1, 0.1, seed=2))\n",
    "        \n",
    "        lstm_cell_w_dropout = tf.nn.rnn_cell.DropoutWrapper(lstm_cell, output_keep_prob=keep_prob, seed=42)\n",
    "        return lstm_cell_w_dropout\n",
    "\n",
    "    encoder_cell = tf.contrib.rnn.MultiRNNCell([make_cell(rnn_size) for _ in range(num_layers)])\n",
    "    encoder_output, encoder_state = tf.nn.dynamic_rnn(encoder_cell, encoder_embed_input, sequence_length=source_sequence_length, dtype=tf.float32)\n",
    "\n",
    "    return encoder_output, encoder_state\n",
    "\n",
    "\"\"\"\n",
    "DON'T MODIFY ANYTHING IN THIS CELL THAT IS BELOW THIS LINE\n",
    "\"\"\"\n",
    "tests.test_encoding_layer(encoding_layer)"
   ]
  },
  {
   "cell_type": "markdown",
   "metadata": {
    "deletable": true,
    "editable": true
   },
   "source": [
    "### Decoding - Training\n",
    "Create a training decoding layer:\n",
    "* Create a [`tf.contrib.seq2seq.TrainingHelper`](https://www.tensorflow.org/api_docs/python/tf/contrib/seq2seq/TrainingHelper) \n",
    "* Create a [`tf.contrib.seq2seq.BasicDecoder`](https://www.tensorflow.org/api_docs/python/tf/contrib/seq2seq/BasicDecoder)\n",
    "* Obtain the decoder outputs from [`tf.contrib.seq2seq.dynamic_decode`](https://www.tensorflow.org/api_docs/python/tf/contrib/seq2seq/dynamic_decode)"
   ]
  },
  {
   "cell_type": "code",
   "execution_count": 7,
   "metadata": {
    "collapsed": false,
    "deletable": true,
    "editable": true
   },
   "outputs": [
    {
     "name": "stdout",
     "output_type": "stream",
     "text": [
      "Tests Passed\n"
     ]
    }
   ],
   "source": [
    "\n",
    "def decoding_layer_train(encoder_state, dec_cell, dec_embed_input, \n",
    "                         target_sequence_length, max_summary_length, \n",
    "                         output_layer, keep_prob):\n",
    "    \"\"\"\n",
    "    Create a decoding layer for training\n",
    "    :param encoder_state: Encoder State\n",
    "    :param dec_cell: Decoder RNN Cell\n",
    "    :param dec_embed_input: Decoder embedded input\n",
    "    :param target_sequence_length: The lengths of each sequence in the target batch\n",
    "    :param max_summary_length: The length of the longest sequence in the batch\n",
    "    :param output_layer: Function to apply the output layer\n",
    "    :param keep_prob: Dropout keep probability\n",
    "    :return: BasicDecoderOutput containing training logits and sample_id\n",
    "    Training helper ->\n",
    "    https://stackoverflow.com/questions/43826784/trouble-understanding-tf-contrib-seq2seq-traininghelper\n",
    "    \n",
    "    TrainingHelper feeds the ground truth at every step. If you want to use decoder outputs, you can use scheduled sampling [1]. \n",
    "    Scheduled sampling is implemented in ScheduledEmbeddingTrainingHelper and ScheduledOutputTrainingHelper, so you can use \n",
    "    one of the two (depending on your particular application) instead of TrainingHelper. \n",
    "    \"\"\"\n",
    "    # 1. Decoder Embedding\n",
    "    # already passed as input -> dec_embed_input\n",
    "\n",
    "    # 2. Construct the decoder cell\n",
    "    # already passed as input -> dec_cell\n",
    "     \n",
    "    # 3. Dense layer to translate the decoder's output at each time \n",
    "    # step into a choice from the target vocabulary\n",
    "    # already passed as input -> output_layer\n",
    "\n",
    "    # 4. Set up a training decoder\n",
    "    # Training Decoder\n",
    "    #with tf.variable_scope(\"decode\"):\n",
    "\n",
    "    # Helper for the training process. Used by BasicDecoder to read inputs.\n",
    "    training_helper = tf.contrib.seq2seq.TrainingHelper(inputs=dec_embed_input,\n",
    "                                                        sequence_length=target_sequence_length,\n",
    "                                                        time_major=False)\n",
    "\n",
    "\n",
    "    # Basic decoder\n",
    "    training_decoder = tf.contrib.seq2seq.BasicDecoder(dec_cell,\n",
    "                                                       training_helper,\n",
    "                                                       encoder_state,\n",
    "                                                       output_layer) \n",
    "\n",
    "    # Perform dynamic decoding using the decoder\n",
    "    training_decoder_output = tf.contrib.seq2seq.dynamic_decode(training_decoder,\n",
    "                                                                   impute_finished=True,\n",
    "                                                                   maximum_iterations=max_summary_length)[0]\n",
    "\n",
    "    return training_decoder_output\n",
    "\n",
    "\n",
    "\n",
    "\"\"\"\n",
    "DON'T MODIFY ANYTHING IN THIS CELL THAT IS BELOW THIS LINE\n",
    "\"\"\"\n",
    "tests.test_decoding_layer_train(decoding_layer_train)"
   ]
  },
  {
   "cell_type": "markdown",
   "metadata": {
    "deletable": true,
    "editable": true
   },
   "source": [
    "### Decoding - Inference\n",
    "Create inference decoder:\n",
    "* Create a [`tf.contrib.seq2seq.GreedyEmbeddingHelper`](https://www.tensorflow.org/api_docs/python/tf/contrib/seq2seq/GreedyEmbeddingHelper)\n",
    "* Create a [`tf.contrib.seq2seq.BasicDecoder`](https://www.tensorflow.org/api_docs/python/tf/contrib/seq2seq/BasicDecoder)\n",
    "* Obtain the decoder outputs from [`tf.contrib.seq2seq.dynamic_decode`](https://www.tensorflow.org/api_docs/python/tf/contrib/seq2seq/dynamic_decode)"
   ]
  },
  {
   "cell_type": "code",
   "execution_count": 8,
   "metadata": {
    "collapsed": false,
    "deletable": true,
    "editable": true,
    "scrolled": true
   },
   "outputs": [
    {
     "name": "stdout",
     "output_type": "stream",
     "text": [
      "Tests Passed\n"
     ]
    }
   ],
   "source": [
    "def decoding_layer_infer(encoder_state, dec_cell, dec_embeddings, start_of_sequence_id,\n",
    "                         end_of_sequence_id, max_target_sequence_length,\n",
    "                         vocab_size, output_layer, batch_size, keep_prob):\n",
    "    \"\"\"\n",
    "    Create a decoding layer for inference\n",
    "    :param encoder_state: Encoder state\n",
    "    :param dec_cell: Decoder RNN Cell\n",
    "    :param dec_embeddings: Decoder embeddings\n",
    "    :param start_of_sequence_id: GO ID\n",
    "    :param end_of_sequence_id: EOS Id\n",
    "    :param max_target_sequence_length: Maximum length of target sequences\n",
    "    :param vocab_size: Size of decoder/target vocabulary\n",
    "    :param decoding_scope: TenorFlow Variable Scope for decoding\n",
    "    :param output_layer: Function to apply the output layer\n",
    "    :param batch_size: Batch size\n",
    "    :param keep_prob: Dropout keep probability\n",
    "    :return: BasicDecoderOutput containing inference logits and sample_id\n",
    "    \"\"\"\n",
    "    # Reuses the same parameters trained by the training process\n",
    "    # with tf.variable_scope(\"decode\", reuse=True):\n",
    "    # will be in the callee\n",
    "    \"\"\"\n",
    "    Constructs a tensor by tiling a given tensor.\n",
    "    This operation creates a new tensor by replicating input multiples times. The output tensor's i'th dimension has \n",
    "    input.dims(i) * multiples[i] elements, and the values of input are replicated multiples[i] times along \n",
    "    the 'i'th dimension. For example, tiling [a b c d] by [2] produces [a b c d a b c d].\n",
    "    \"\"\"\n",
    "    start_tokens = tf.tile(tf.constant([start_of_sequence_id], dtype=tf.int32), [batch_size], name='start_tokens')\n",
    "\n",
    "    \"\"\"\n",
    "    As you can see, this is very similar to the training layer. The main difference is GreedyEmbeddingHelper, which uses the\n",
    "    argmax of the output (treated as logits) and passes the result through an embedding layer to get the next input. \n",
    "    \"\"\"\n",
    "    # Helper for the inference process.\n",
    "    inference_helper = tf.contrib.seq2seq.GreedyEmbeddingHelper(dec_embeddings,\n",
    "                                                            start_tokens,\n",
    "                                                            end_of_sequence_id)\n",
    "\n",
    "    # Basic decoder\n",
    "    inference_decoder = tf.contrib.seq2seq.BasicDecoder(dec_cell,\n",
    "                                                    inference_helper,\n",
    "                                                    encoder_state,\n",
    "                                                    output_layer)\n",
    "\n",
    "    # Perform dynamic decoding using the decoder\n",
    "    inference_decoder_output = tf.contrib.seq2seq.dynamic_decode(inference_decoder,\n",
    "                                                        impute_finished=True,\n",
    "                                                        maximum_iterations=max_target_sequence_length)[0]\n",
    "    \n",
    "    return inference_decoder_output\n",
    "\n",
    "\n",
    "\n",
    "\"\"\"\n",
    "DON'T MODIFY ANYTHING IN THIS CELL THAT IS BELOW THIS LINE\n",
    "\"\"\"\n",
    "tests.test_decoding_layer_infer(decoding_layer_infer)"
   ]
  },
  {
   "cell_type": "markdown",
   "metadata": {
    "deletable": true,
    "editable": true
   },
   "source": [
    "### Build the Decoding Layer\n",
    "Implement `decoding_layer()` to create a Decoder RNN layer.\n",
    "\n",
    "* Embed the target sequences\n",
    "* Construct the decoder LSTM cell (just like you constructed the encoder cell above)\n",
    "* Create an output layer to map the outputs of the decoder to the elements of our vocabulary\n",
    "* Use the your `decoding_layer_train(encoder_state, dec_cell, dec_embed_input, target_sequence_length, max_target_sequence_length, output_layer, keep_prob)` function to get the training logits.\n",
    "* Use your `decoding_layer_infer(encoder_state, dec_cell, dec_embeddings, start_of_sequence_id, end_of_sequence_id, max_target_sequence_length, vocab_size, output_layer, batch_size, keep_prob)` function to get the inference logits.\n",
    "\n",
    "Note: You'll need to use [tf.variable_scope](https://www.tensorflow.org/api_docs/python/tf/variable_scope) to share variables between training and inference."
   ]
  },
  {
   "cell_type": "code",
   "execution_count": 11,
   "metadata": {
    "collapsed": false,
    "deletable": true,
    "editable": true
   },
   "outputs": [
    {
     "name": "stdout",
     "output_type": "stream",
     "text": [
      "Tests Passed\n"
     ]
    }
   ],
   "source": [
    "def decoding_layer(dec_input, encoder_state,\n",
    "                   target_sequence_length, max_target_sequence_length,\n",
    "                   rnn_size,\n",
    "                   num_layers, target_vocab_to_int, target_vocab_size,\n",
    "                   batch_size, keep_prob, decoding_embedding_size):\n",
    "    \"\"\"\n",
    "    Create decoding layer\n",
    "    :param dec_input: Decoder input\n",
    "    :param encoder_state: Encoder state\n",
    "    :param target_sequence_length: The lengths of each sequence in the target batch\n",
    "    :param max_target_sequence_length: Maximum length of target sequences\n",
    "    :param rnn_size: RNN Size\n",
    "    :param num_layers: Number of layers\n",
    "    :param target_vocab_to_int: Dictionary to go from the target words to an id\n",
    "    :param target_vocab_size: Size of target vocabulary\n",
    "    :param batch_size: The size of the batch\n",
    "    :param keep_prob: Dropout keep probability\n",
    "    :param decoding_embedding_size: Decoding embedding size\n",
    "    :return: Tuple of (Training BasicDecoderOutput, Inference BasicDecoderOutput)\n",
    "    \"\"\"\n",
    "    #1. Embed the target sequences\n",
    "    dec_embeddings = tf.Variable(tf.random_uniform([target_vocab_size, decoding_embedding_size]))\n",
    "    dec_embed_input = tf.nn.embedding_lookup(dec_embeddings, dec_input)\n",
    "    \n",
    "    #2. Construct the decoder LSTM cell (just like you constructed the encoder cell above)\n",
    "    def make_cell(rnn_size):\n",
    "        dec_cell = tf.contrib.rnn.LSTMCell(rnn_size,\n",
    "                                           initializer=tf.random_uniform_initializer(-0.1, 0.1, seed=2))\n",
    "        return dec_cell\n",
    "\n",
    "    dec_cell = tf.contrib.rnn.MultiRNNCell([make_cell(rnn_size) for _ in range(num_layers)])    \n",
    "    \n",
    "    \n",
    "    #3. Create an output layer to map the outputs of the decoder to the elements of our vocabulary\n",
    "    # Functional interface for the densely (fully)-connected layer.\n",
    "    output_layer = Dense(target_vocab_size,\n",
    "                         kernel_initializer = tf.truncated_normal_initializer(mean = 0.0, stddev=0.1))\n",
    "    \n",
    "    #Note: You'll need to use tf.variable_scope to share variables between training and inference.\n",
    "    #4. Use the your decoding_layer_train(encoder_state, dec_cell, dec_embed_input, target_sequence_length, \n",
    "    #   max_target_sequence_length, output_layer, keep_prob) function to get the training logits.\n",
    "    # read about variable scope -- https://stackoverflow.com/questions/35919020/whats-the-difference-of-name-scope-and-a-variable-scope-in-tensorflow\n",
    "    with tf.variable_scope(\"decode\"):\n",
    "        training_decoder_output = decoding_layer_train(encoder_state, dec_cell, dec_embed_input, \n",
    "                                                     target_sequence_length, max_target_sequence_length, \n",
    "                                                     output_layer, keep_prob)\n",
    "        \n",
    "    #5. Use your decoding_layer_infer(encoder_state, dec_cell, dec_embeddings, start_of_sequence_id, end_of_sequence_id, \n",
    "    #   max_target_sequence_length, vocab_size, output_layer, batch_size, keep_prob) function to get the inference logits.\n",
    "    with tf.variable_scope(\"decode\", reuse=True):\n",
    "        inference_logits = decoding_layer_infer(encoder_state, dec_cell, dec_embeddings, target_vocab_to_int['<GO>'], \n",
    "                                                target_vocab_to_int['<EOS>'], max_target_sequence_length, target_vocab_size, output_layer, \n",
    "                                                batch_size, keep_prob)\n",
    "    \n",
    "    return training_decoder_output, inference_logits\n",
    "\n",
    "\n",
    "\"\"\"\n",
    "DON'T MODIFY ANYTHING IN THIS CELL THAT IS BELOW THIS LINE\n",
    "\"\"\"\n",
    "tests.test_decoding_layer(decoding_layer)"
   ]
  },
  {
   "cell_type": "markdown",
   "metadata": {
    "deletable": true,
    "editable": true
   },
   "source": [
    "### Build the Neural Network\n",
    "Apply the functions you implemented above to:\n",
    "\n",
    "- Encode the input using your `encoding_layer(rnn_inputs, rnn_size, num_layers, keep_prob,  source_sequence_length, source_vocab_size, encoding_embedding_size)`.\n",
    "- Process target data using your `process_decoder_input(target_data, target_vocab_to_int, batch_size)` function.\n",
    "- Decode the encoded input using your `decoding_layer(dec_input, enc_state, target_sequence_length, max_target_sentence_length, rnn_size, num_layers, target_vocab_to_int, target_vocab_size, batch_size, keep_prob, dec_embedding_size)` function."
   ]
  },
  {
   "cell_type": "code",
   "execution_count": 14,
   "metadata": {
    "collapsed": false,
    "deletable": true,
    "editable": true
   },
   "outputs": [
    {
     "name": "stdout",
     "output_type": "stream",
     "text": [
      "Tests Passed\n"
     ]
    }
   ],
   "source": [
    "def seq2seq_model(input_data, target_data, keep_prob, batch_size,\n",
    "                  source_sequence_length, target_sequence_length,\n",
    "                  max_target_sentence_length,\n",
    "                  source_vocab_size, target_vocab_size,\n",
    "                  enc_embedding_size, dec_embedding_size,\n",
    "                  rnn_size, num_layers, target_vocab_to_int):\n",
    "    \"\"\"\n",
    "    Build the Sequence-to-Sequence part of the neural network\n",
    "    :param input_data: Input placeholder\n",
    "    :param target_data: Target placeholder\n",
    "    :param keep_prob: Dropout keep probability placeholder\n",
    "    :param batch_size: Batch Size\n",
    "    :param source_sequence_length: Sequence Lengths of source sequences in the batch\n",
    "    :param target_sequence_length: Sequence Lengths of target sequences in the batch\n",
    "    :param source_vocab_size: Source vocabulary size\n",
    "    :param target_vocab_size: Target vocabulary size\n",
    "    :param enc_embedding_size: Decoder embedding size\n",
    "    :param dec_embedding_size: Encoder embedding size\n",
    "    :param rnn_size: RNN Size\n",
    "    :param num_layers: Number of layers\n",
    "    :param target_vocab_to_int: Dictionary to go from the target words to an id\n",
    "    :return: Tuple of (Training BasicDecoderOutput, Inference BasicDecoderOutput)\n",
    "    \"\"\"\n",
    "    # Encode the input using your encoding_layer(rnn_inputs, rnn_size, num_layers, keep_prob,  source_sequence_length, source_vocab_size, encoding_embedding_size).\n",
    "    enc_output, enc_state = encoding_layer(input_data, rnn_size, num_layers, keep_prob, source_sequence_length, source_vocab_size, enc_embedding_size)\n",
    "    \n",
    "    # Process target data using your process_decoder_input(target_data, target_vocab_to_int, batch_size) function.\n",
    "    dec_input = process_decoder_input(target_data, target_vocab_to_int, batch_size)\n",
    "    \n",
    "    # Decode the encoded input using your decoding_layer(dec_input, enc_state, target_sequence_length, max_target_sentence_length, rnn_size, num_layers, target_vocab_to_int, target_vocab_size, batch_size, keep_prob, dec_embedding_size) function.\n",
    "    Training_BasicDecoderOutput, Inference_BasicDecoderOutput = decoding_layer(dec_input, enc_state, target_sequence_length, \n",
    "                                                                               max_target_sentence_length, rnn_size, num_layers, \n",
    "                                                                               target_vocab_to_int, target_vocab_size, batch_size,\n",
    "                                                                               keep_prob, dec_embedding_size)\n",
    "    \n",
    "    # TODO: Implement Function\n",
    "    return Training_BasicDecoderOutput, Inference_BasicDecoderOutput\n",
    "\n",
    "\n",
    "\"\"\"\n",
    "DON'T MODIFY ANYTHING IN THIS CELL THAT IS BELOW THIS LINE\n",
    "\"\"\"\n",
    "tests.test_seq2seq_model(seq2seq_model)"
   ]
  },
  {
   "cell_type": "markdown",
   "metadata": {
    "deletable": true,
    "editable": true
   },
   "source": [
    "## Neural Network Training\n",
    "### Hyperparameters\n",
    "Tune the following parameters:\n",
    "\n",
    "- Set `epochs` to the number of epochs.\n",
    "- Set `batch_size` to the batch size.\n",
    "- Set `rnn_size` to the size of the RNNs.\n",
    "- Set `num_layers` to the number of layers.\n",
    "- Set `encoding_embedding_size` to the size of the embedding for the encoder.\n",
    "- Set `decoding_embedding_size` to the size of the embedding for the decoder.\n",
    "- Set `learning_rate` to the learning rate.\n",
    "- Set `keep_probability` to the Dropout keep probability\n",
    "- Set `display_step` to state how many steps between each debug output statement"
   ]
  },
  {
   "cell_type": "code",
   "execution_count": 32,
   "metadata": {
    "collapsed": true,
    "deletable": true,
    "editable": true
   },
   "outputs": [],
   "source": [
    "# Number of Epochs\n",
    "epochs = 2\n",
    "# Batch Size\n",
    "batch_size = 128\n",
    "# RNN Size\n",
    "rnn_size = 64\n",
    "# Number of Layers\n",
    "num_layers = 3\n",
    "# Embedding Size\n",
    "encoding_embedding_size = 256\n",
    "decoding_embedding_size = 256\n",
    "# Learning Rate\n",
    "learning_rate = 0.001\n",
    "# Dropout Keep Probability\n",
    "keep_probability = 0.7\n",
    "display_step = 20"
   ]
  },
  {
   "cell_type": "markdown",
   "metadata": {
    "deletable": true,
    "editable": true
   },
   "source": [
    "### Build the Graph\n",
    "Build the graph using the neural network you implemented."
   ]
  },
  {
   "cell_type": "code",
   "execution_count": 33,
   "metadata": {
    "collapsed": true,
    "deletable": true,
    "editable": true
   },
   "outputs": [],
   "source": [
    "\"\"\"\n",
    "DON'T MODIFY ANYTHING IN THIS CELL\n",
    "\"\"\"\n",
    "save_path = 'checkpoints/dev'\n",
    "(source_int_text, target_int_text), (source_vocab_to_int, target_vocab_to_int), _ = helper.load_preprocess()\n",
    "max_target_sentence_length = max([len(sentence) for sentence in source_int_text])\n",
    "\n",
    "train_graph = tf.Graph()\n",
    "with train_graph.as_default():\n",
    "    input_data, targets, lr, keep_prob, target_sequence_length, max_target_sequence_length, source_sequence_length = model_inputs()\n",
    "\n",
    "    #sequence_length = tf.placeholder_with_default(max_target_sentence_length, None, name='sequence_length')\n",
    "    input_shape = tf.shape(input_data)\n",
    "\n",
    "    train_logits, inference_logits = seq2seq_model(tf.reverse(input_data, [-1]),\n",
    "                                                   targets,\n",
    "                                                   keep_prob,\n",
    "                                                   batch_size,\n",
    "                                                   source_sequence_length,\n",
    "                                                   target_sequence_length,\n",
    "                                                   max_target_sequence_length,\n",
    "                                                   len(source_vocab_to_int),\n",
    "                                                   len(target_vocab_to_int),\n",
    "                                                   encoding_embedding_size,\n",
    "                                                   decoding_embedding_size,\n",
    "                                                   rnn_size,\n",
    "                                                   num_layers,\n",
    "                                                   target_vocab_to_int)\n",
    "\n",
    "\n",
    "    training_logits = tf.identity(train_logits.rnn_output, name='logits')\n",
    "    inference_logits = tf.identity(inference_logits.sample_id, name='predictions')\n",
    "\n",
    "    masks = tf.sequence_mask(target_sequence_length, max_target_sequence_length, dtype=tf.float32, name='masks')\n",
    "\n",
    "    with tf.name_scope(\"optimization\"):\n",
    "        # Loss function\n",
    "        cost = tf.contrib.seq2seq.sequence_loss(\n",
    "            training_logits,\n",
    "            targets,\n",
    "            masks)\n",
    "\n",
    "        # Optimizer\n",
    "        optimizer = tf.train.AdamOptimizer(lr)\n",
    "\n",
    "        # Gradient Clipping\n",
    "        gradients = optimizer.compute_gradients(cost)\n",
    "        capped_gradients = [(tf.clip_by_value(grad, -1., 1.), var) for grad, var in gradients if grad is not None]\n",
    "        train_op = optimizer.apply_gradients(capped_gradients)\n"
   ]
  },
  {
   "cell_type": "markdown",
   "metadata": {
    "deletable": true,
    "editable": true
   },
   "source": [
    "Batch and pad the source and target sequences"
   ]
  },
  {
   "cell_type": "code",
   "execution_count": 34,
   "metadata": {
    "collapsed": true,
    "deletable": true,
    "editable": true
   },
   "outputs": [],
   "source": [
    "\"\"\"\n",
    "DON'T MODIFY ANYTHING IN THIS CELL\n",
    "\"\"\"\n",
    "def pad_sentence_batch(sentence_batch, pad_int):\n",
    "    \"\"\"Pad sentences with <PAD> so that each sentence of a batch has the same length\"\"\"\n",
    "    max_sentence = max([len(sentence) for sentence in sentence_batch])\n",
    "    return [sentence + [pad_int] * (max_sentence - len(sentence)) for sentence in sentence_batch]\n",
    "\n",
    "\n",
    "def get_batches(sources, targets, batch_size, source_pad_int, target_pad_int):\n",
    "    \"\"\"Batch targets, sources, and the lengths of their sentences together\"\"\"\n",
    "    for batch_i in range(0, len(sources)//batch_size):\n",
    "        start_i = batch_i * batch_size\n",
    "\n",
    "        # Slice the right amount for the batch\n",
    "        sources_batch = sources[start_i:start_i + batch_size]\n",
    "        targets_batch = targets[start_i:start_i + batch_size]\n",
    "\n",
    "        # Pad\n",
    "        pad_sources_batch = np.array(pad_sentence_batch(sources_batch, source_pad_int))\n",
    "        pad_targets_batch = np.array(pad_sentence_batch(targets_batch, target_pad_int))\n",
    "\n",
    "        # Need the lengths for the _lengths parameters\n",
    "        pad_targets_lengths = []\n",
    "        for target in pad_targets_batch:\n",
    "            pad_targets_lengths.append(len(target))\n",
    "\n",
    "        pad_source_lengths = []\n",
    "        for source in pad_sources_batch:\n",
    "            pad_source_lengths.append(len(source))\n",
    "\n",
    "        yield pad_sources_batch, pad_targets_batch, pad_source_lengths, pad_targets_lengths\n"
   ]
  },
  {
   "cell_type": "markdown",
   "metadata": {
    "deletable": true,
    "editable": true
   },
   "source": [
    "### Train\n",
    "Train the neural network on the preprocessed data. If you have a hard time getting a good loss, check the forms to see if anyone is having the same problem."
   ]
  },
  {
   "cell_type": "code",
   "execution_count": null,
   "metadata": {
    "collapsed": false,
    "deletable": true,
    "editable": true,
    "scrolled": true
   },
   "outputs": [
    {
     "name": "stdout",
     "output_type": "stream",
     "text": [
      "Epoch   0 Batch   20/1077 - Train Accuracy: 0.2422, Validation Accuracy: 0.3185, Loss: 4.1932\n",
      "Epoch   0 Batch   40/1077 - Train Accuracy: 0.2660, Validation Accuracy: 0.3363, Loss: 3.4621\n",
      "Epoch   0 Batch   60/1077 - Train Accuracy: 0.3028, Validation Accuracy: 0.3438, Loss: 3.1291\n",
      "Epoch   0 Batch   80/1077 - Train Accuracy: 0.3039, Validation Accuracy: 0.3679, Loss: 3.0908\n",
      "Epoch   0 Batch  100/1077 - Train Accuracy: 0.3035, Validation Accuracy: 0.3754, Loss: 3.0226\n",
      "Epoch   0 Batch  120/1077 - Train Accuracy: 0.3238, Validation Accuracy: 0.3888, Loss: 2.9155\n",
      "Epoch   0 Batch  140/1077 - Train Accuracy: 0.2981, Validation Accuracy: 0.3999, Loss: 2.9744\n",
      "Epoch   0 Batch  160/1077 - Train Accuracy: 0.3512, Validation Accuracy: 0.4165, Loss: 2.7150\n",
      "Epoch   0 Batch  180/1077 - Train Accuracy: 0.3812, Validation Accuracy: 0.4354, Loss: 2.6715\n",
      "Epoch   0 Batch  200/1077 - Train Accuracy: 0.3898, Validation Accuracy: 0.4329, Loss: 2.6117\n",
      "Epoch   0 Batch  220/1077 - Train Accuracy: 0.3746, Validation Accuracy: 0.4411, Loss: 2.6356\n",
      "Epoch   0 Batch  240/1077 - Train Accuracy: 0.4199, Validation Accuracy: 0.4506, Loss: 2.4670\n",
      "Epoch   0 Batch  260/1077 - Train Accuracy: 0.4304, Validation Accuracy: 0.4510, Loss: 2.3930\n",
      "Epoch   0 Batch  280/1077 - Train Accuracy: 0.4211, Validation Accuracy: 0.4673, Loss: 2.4353\n",
      "Epoch   0 Batch  300/1077 - Train Accuracy: 0.4042, Validation Accuracy: 0.4709, Loss: 2.5171\n",
      "Epoch   0 Batch  320/1077 - Train Accuracy: 0.4375, Validation Accuracy: 0.4737, Loss: 2.3770\n",
      "Epoch   0 Batch  340/1077 - Train Accuracy: 0.4067, Validation Accuracy: 0.4719, Loss: 2.4285\n",
      "Epoch   0 Batch  360/1077 - Train Accuracy: 0.4434, Validation Accuracy: 0.4790, Loss: 2.3097\n",
      "Epoch   0 Batch  380/1077 - Train Accuracy: 0.4625, Validation Accuracy: 0.4883, Loss: 2.1918\n",
      "Epoch   0 Batch  400/1077 - Train Accuracy: 0.4375, Validation Accuracy: 0.4812, Loss: 2.2420\n",
      "Epoch   0 Batch  420/1077 - Train Accuracy: 0.4484, Validation Accuracy: 0.4957, Loss: 2.1779\n",
      "Epoch   0 Batch  440/1077 - Train Accuracy: 0.4488, Validation Accuracy: 0.4876, Loss: 2.1083\n",
      "Epoch   0 Batch  460/1077 - Train Accuracy: 0.4434, Validation Accuracy: 0.4993, Loss: 2.1062\n",
      "Epoch   0 Batch  480/1077 - Train Accuracy: 0.4515, Validation Accuracy: 0.5167, Loss: 2.0764\n",
      "Epoch   0 Batch  500/1077 - Train Accuracy: 0.4723, Validation Accuracy: 0.5021, Loss: 1.9588\n",
      "Epoch   0 Batch  520/1077 - Train Accuracy: 0.4948, Validation Accuracy: 0.5110, Loss: 1.8273\n",
      "Epoch   0 Batch  540/1077 - Train Accuracy: 0.4672, Validation Accuracy: 0.5036, Loss: 1.8021\n",
      "Epoch   0 Batch  560/1077 - Train Accuracy: 0.4512, Validation Accuracy: 0.4950, Loss: 1.8213\n",
      "Epoch   0 Batch  580/1077 - Train Accuracy: 0.4847, Validation Accuracy: 0.5004, Loss: 1.7140\n",
      "Epoch   0 Batch  600/1077 - Train Accuracy: 0.4993, Validation Accuracy: 0.5067, Loss: 1.6878\n",
      "Epoch   0 Batch  620/1077 - Train Accuracy: 0.4586, Validation Accuracy: 0.5085, Loss: 1.7440\n",
      "Epoch   0 Batch  640/1077 - Train Accuracy: 0.4609, Validation Accuracy: 0.5131, Loss: 1.6600\n",
      "Epoch   0 Batch  660/1077 - Train Accuracy: 0.4316, Validation Accuracy: 0.4954, Loss: 1.7173\n",
      "Epoch   0 Batch  680/1077 - Train Accuracy: 0.4639, Validation Accuracy: 0.5064, Loss: 1.6021\n",
      "Epoch   0 Batch  700/1077 - Train Accuracy: 0.4414, Validation Accuracy: 0.5046, Loss: 1.5928\n",
      "Epoch   0 Batch  720/1077 - Train Accuracy: 0.4519, Validation Accuracy: 0.5114, Loss: 1.6897\n",
      "Epoch   0 Batch  740/1077 - Train Accuracy: 0.4637, Validation Accuracy: 0.5089, Loss: 1.5532\n",
      "Epoch   0 Batch  760/1077 - Train Accuracy: 0.4828, Validation Accuracy: 0.5273, Loss: 1.5570\n",
      "Epoch   0 Batch  780/1077 - Train Accuracy: 0.4625, Validation Accuracy: 0.5202, Loss: 1.5418\n",
      "Epoch   0 Batch  800/1077 - Train Accuracy: 0.4699, Validation Accuracy: 0.5259, Loss: 1.5382\n",
      "Epoch   0 Batch  820/1077 - Train Accuracy: 0.4695, Validation Accuracy: 0.5195, Loss: 1.5010\n",
      "Epoch   0 Batch  840/1077 - Train Accuracy: 0.4797, Validation Accuracy: 0.5252, Loss: 1.4413\n",
      "Epoch   0 Batch  860/1077 - Train Accuracy: 0.4892, Validation Accuracy: 0.5234, Loss: 1.3862\n",
      "Epoch   0 Batch  880/1077 - Train Accuracy: 0.4988, Validation Accuracy: 0.5195, Loss: 1.3592\n",
      "Epoch   0 Batch  900/1077 - Train Accuracy: 0.4605, Validation Accuracy: 0.5146, Loss: 1.4425\n",
      "Epoch   0 Batch  920/1077 - Train Accuracy: 0.4719, Validation Accuracy: 0.4979, Loss: 1.3853\n",
      "Epoch   0 Batch  940/1077 - Train Accuracy: 0.4707, Validation Accuracy: 0.5149, Loss: 1.3790\n",
      "Epoch   0 Batch  960/1077 - Train Accuracy: 0.4922, Validation Accuracy: 0.5053, Loss: 1.2385\n",
      "Epoch   0 Batch  980/1077 - Train Accuracy: 0.4852, Validation Accuracy: 0.4954, Loss: 1.2517\n",
      "Epoch   0 Batch 1000/1077 - Train Accuracy: 0.4993, Validation Accuracy: 0.5078, Loss: 1.2016\n",
      "Epoch   0 Batch 1020/1077 - Train Accuracy: 0.4754, Validation Accuracy: 0.4865, Loss: 1.2259\n",
      "Epoch   0 Batch 1040/1077 - Train Accuracy: 0.4696, Validation Accuracy: 0.5142, Loss: 1.2725\n",
      "Epoch   0 Batch 1060/1077 - Train Accuracy: 0.4613, Validation Accuracy: 0.4940, Loss: 1.1796\n",
      "Epoch   1 Batch   20/1077 - Train Accuracy: 0.4738, Validation Accuracy: 0.4901, Loss: 1.1181\n",
      "Epoch   1 Batch   40/1077 - Train Accuracy: 0.4480, Validation Accuracy: 0.4794, Loss: 1.1391\n",
      "Epoch   1 Batch   60/1077 - Train Accuracy: 0.4717, Validation Accuracy: 0.5085, Loss: 1.0952\n",
      "Epoch   1 Batch   80/1077 - Train Accuracy: 0.4742, Validation Accuracy: 0.4943, Loss: 1.1065\n",
      "Epoch   1 Batch  100/1077 - Train Accuracy: 0.4441, Validation Accuracy: 0.4933, Loss: 1.0844\n",
      "Epoch   1 Batch  120/1077 - Train Accuracy: 0.4805, Validation Accuracy: 0.4904, Loss: 1.0643\n",
      "Epoch   1 Batch  140/1077 - Train Accuracy: 0.4009, Validation Accuracy: 0.4840, Loss: 1.0993\n",
      "Epoch   1 Batch  160/1077 - Train Accuracy: 0.5055, Validation Accuracy: 0.5359, Loss: 1.0032\n",
      "Epoch   1 Batch  180/1077 - Train Accuracy: 0.4934, Validation Accuracy: 0.5330, Loss: 0.9933\n",
      "Epoch   1 Batch  200/1077 - Train Accuracy: 0.4801, Validation Accuracy: 0.5440, Loss: 0.9981\n",
      "Epoch   1 Batch  220/1077 - Train Accuracy: 0.4918, Validation Accuracy: 0.5515, Loss: 0.9954\n",
      "Epoch   1 Batch  240/1077 - Train Accuracy: 0.5168, Validation Accuracy: 0.5334, Loss: 0.9357\n",
      "Epoch   1 Batch  260/1077 - Train Accuracy: 0.5007, Validation Accuracy: 0.5266, Loss: 0.9049\n",
      "Epoch   1 Batch  280/1077 - Train Accuracy: 0.5086, Validation Accuracy: 0.5455, Loss: 0.9508\n",
      "Epoch   1 Batch  300/1077 - Train Accuracy: 0.4745, Validation Accuracy: 0.5415, Loss: 0.9606\n",
      "Epoch   1 Batch  320/1077 - Train Accuracy: 0.5473, Validation Accuracy: 0.5529, Loss: 0.9211\n",
      "Epoch   1 Batch  340/1077 - Train Accuracy: 0.4918, Validation Accuracy: 0.5579, Loss: 0.9041\n",
      "Epoch   1 Batch  360/1077 - Train Accuracy: 0.5629, Validation Accuracy: 0.5529, Loss: 0.8832\n",
      "Epoch   1 Batch  380/1077 - Train Accuracy: 0.5539, Validation Accuracy: 0.5607, Loss: 0.8496\n",
      "Epoch   1 Batch  400/1077 - Train Accuracy: 0.5711, Validation Accuracy: 0.5547, Loss: 0.8616\n",
      "Epoch   1 Batch  420/1077 - Train Accuracy: 0.5371, Validation Accuracy: 0.5529, Loss: 0.8501\n",
      "Epoch   1 Batch  440/1077 - Train Accuracy: 0.5355, Validation Accuracy: 0.5742, Loss: 0.8751\n",
      "Epoch   1 Batch  460/1077 - Train Accuracy: 0.5297, Validation Accuracy: 0.5504, Loss: 0.8528\n",
      "Epoch   1 Batch  480/1077 - Train Accuracy: 0.5382, Validation Accuracy: 0.5593, Loss: 0.8574\n",
      "Epoch   1 Batch  500/1077 - Train Accuracy: 0.5832, Validation Accuracy: 0.5877, Loss: 0.8153\n",
      "Epoch   1 Batch  520/1077 - Train Accuracy: 0.6004, Validation Accuracy: 0.5938, Loss: 0.7646\n",
      "Epoch   1 Batch  540/1077 - Train Accuracy: 0.5414, Validation Accuracy: 0.5579, Loss: 0.7641\n",
      "Epoch   1 Batch  560/1077 - Train Accuracy: 0.5609, Validation Accuracy: 0.5597, Loss: 0.7754\n",
      "Epoch   1 Batch  580/1077 - Train Accuracy: 0.5964, Validation Accuracy: 0.5827, Loss: 0.7191\n",
      "Epoch   1 Batch  600/1077 - Train Accuracy: 0.6071, Validation Accuracy: 0.5831, Loss: 0.7382\n",
      "Epoch   1 Batch  620/1077 - Train Accuracy: 0.5664, Validation Accuracy: 0.5728, Loss: 0.7618\n",
      "Epoch   1 Batch  640/1077 - Train Accuracy: 0.5629, Validation Accuracy: 0.5994, Loss: 0.7360\n",
      "Epoch   1 Batch  660/1077 - Train Accuracy: 0.5734, Validation Accuracy: 0.5941, Loss: 0.7747\n",
      "Epoch   1 Batch  680/1077 - Train Accuracy: 0.5882, Validation Accuracy: 0.5849, Loss: 0.7210\n",
      "Epoch   1 Batch  700/1077 - Train Accuracy: 0.5559, Validation Accuracy: 0.5870, Loss: 0.7188\n",
      "Epoch   1 Batch  720/1077 - Train Accuracy: 0.5703, Validation Accuracy: 0.5554, Loss: 0.7949\n",
      "Epoch   1 Batch  740/1077 - Train Accuracy: 0.5914, Validation Accuracy: 0.5987, Loss: 0.7234\n",
      "Epoch   1 Batch  760/1077 - Train Accuracy: 0.6137, Validation Accuracy: 0.5948, Loss: 0.7250\n",
      "Epoch   1 Batch  780/1077 - Train Accuracy: 0.5875, Validation Accuracy: 0.6072, Loss: 0.7348\n",
      "Epoch   1 Batch  800/1077 - Train Accuracy: 0.5746, Validation Accuracy: 0.6214, Loss: 0.7160\n",
      "Epoch   1 Batch  820/1077 - Train Accuracy: 0.5773, Validation Accuracy: 0.6147, Loss: 0.7326\n",
      "Epoch   1 Batch  840/1077 - Train Accuracy: 0.6227, Validation Accuracy: 0.6154, Loss: 0.6803\n",
      "Epoch   1 Batch  860/1077 - Train Accuracy: 0.5781, Validation Accuracy: 0.6083, Loss: 0.6726\n",
      "Epoch   1 Batch  880/1077 - Train Accuracy: 0.6281, Validation Accuracy: 0.6218, Loss: 0.6632\n",
      "Epoch   1 Batch  900/1077 - Train Accuracy: 0.6086, Validation Accuracy: 0.6275, Loss: 0.6841\n",
      "Epoch   1 Batch  920/1077 - Train Accuracy: 0.6027, Validation Accuracy: 0.6293, Loss: 0.6782\n",
      "Epoch   1 Batch  940/1077 - Train Accuracy: 0.6102, Validation Accuracy: 0.6108, Loss: 0.6637\n",
      "Epoch   1 Batch  960/1077 - Train Accuracy: 0.6086, Validation Accuracy: 0.6200, Loss: 0.6244\n",
      "Epoch   1 Batch  980/1077 - Train Accuracy: 0.6289, Validation Accuracy: 0.6225, Loss: 0.6359\n",
      "Epoch   1 Batch 1000/1077 - Train Accuracy: 0.6618, Validation Accuracy: 0.6257, Loss: 0.5952\n",
      "Epoch   1 Batch 1020/1077 - Train Accuracy: 0.6020, Validation Accuracy: 0.6246, Loss: 0.6054\n",
      "Epoch   1 Batch 1040/1077 - Train Accuracy: 0.6102, Validation Accuracy: 0.6190, Loss: 0.6570\n",
      "Epoch   1 Batch 1060/1077 - Train Accuracy: 0.6410, Validation Accuracy: 0.5934, Loss: 0.6126\n",
      "Epoch   2 Batch   20/1077 - Train Accuracy: 0.6352, Validation Accuracy: 0.6367, Loss: 0.5964\n",
      "Epoch   2 Batch   40/1077 - Train Accuracy: 0.6281, Validation Accuracy: 0.6325, Loss: 0.6164\n",
      "Epoch   2 Batch   60/1077 - Train Accuracy: 0.6436, Validation Accuracy: 0.6399, Loss: 0.5875\n",
      "Epoch   2 Batch   80/1077 - Train Accuracy: 0.6105, Validation Accuracy: 0.6300, Loss: 0.6037\n",
      "Epoch   2 Batch  100/1077 - Train Accuracy: 0.6461, Validation Accuracy: 0.6456, Loss: 0.5956\n",
      "Epoch   2 Batch  120/1077 - Train Accuracy: 0.6363, Validation Accuracy: 0.6293, Loss: 0.5933\n",
      "Epoch   2 Batch  140/1077 - Train Accuracy: 0.6184, Validation Accuracy: 0.6257, Loss: 0.5981\n",
      "Epoch   2 Batch  160/1077 - Train Accuracy: 0.6637, Validation Accuracy: 0.6420, Loss: 0.5542\n",
      "Epoch   2 Batch  180/1077 - Train Accuracy: 0.6367, Validation Accuracy: 0.6367, Loss: 0.5559\n",
      "Epoch   2 Batch  200/1077 - Train Accuracy: 0.6676, Validation Accuracy: 0.6243, Loss: 0.5663\n",
      "Epoch   2 Batch  220/1077 - Train Accuracy: 0.6312, Validation Accuracy: 0.6339, Loss: 0.5626\n",
      "Epoch   2 Batch  240/1077 - Train Accuracy: 0.7055, Validation Accuracy: 0.6364, Loss: 0.5250\n",
      "Epoch   2 Batch  260/1077 - Train Accuracy: 0.6674, Validation Accuracy: 0.6332, Loss: 0.5082\n",
      "Epoch   2 Batch  280/1077 - Train Accuracy: 0.6500, Validation Accuracy: 0.6584, Loss: 0.5541\n",
      "Epoch   2 Batch  300/1077 - Train Accuracy: 0.6373, Validation Accuracy: 0.6548, Loss: 0.5570\n",
      "Epoch   2 Batch  320/1077 - Train Accuracy: 0.6789, Validation Accuracy: 0.6893, Loss: 0.5287\n",
      "Epoch   2 Batch  340/1077 - Train Accuracy: 0.6743, Validation Accuracy: 0.6918, Loss: 0.5275\n",
      "Epoch   2 Batch  360/1077 - Train Accuracy: 0.6438, Validation Accuracy: 0.6634, Loss: 0.5166\n",
      "Epoch   2 Batch  380/1077 - Train Accuracy: 0.6664, Validation Accuracy: 0.6765, Loss: 0.4997\n",
      "Epoch   2 Batch  400/1077 - Train Accuracy: 0.7012, Validation Accuracy: 0.6946, Loss: 0.5111\n",
      "Epoch   2 Batch  420/1077 - Train Accuracy: 0.7160, Validation Accuracy: 0.6879, Loss: 0.4806\n",
      "Epoch   2 Batch  440/1077 - Train Accuracy: 0.6859, Validation Accuracy: 0.6690, Loss: 0.5099\n",
      "Epoch   2 Batch  460/1077 - Train Accuracy: 0.6945, Validation Accuracy: 0.6918, Loss: 0.5050\n",
      "Epoch   2 Batch  480/1077 - Train Accuracy: 0.6493, Validation Accuracy: 0.6918, Loss: 0.5092\n",
      "Epoch   2 Batch  500/1077 - Train Accuracy: 0.7137, Validation Accuracy: 0.6996, Loss: 0.4782\n",
      "Epoch   2 Batch  520/1077 - Train Accuracy: 0.7362, Validation Accuracy: 0.7070, Loss: 0.4432\n",
      "Epoch   2 Batch  540/1077 - Train Accuracy: 0.6855, Validation Accuracy: 0.6974, Loss: 0.4439\n",
      "Epoch   2 Batch  560/1077 - Train Accuracy: 0.6918, Validation Accuracy: 0.7102, Loss: 0.4513\n",
      "Epoch   2 Batch  580/1077 - Train Accuracy: 0.7329, Validation Accuracy: 0.6932, Loss: 0.4289\n",
      "Epoch   2 Batch  600/1077 - Train Accuracy: 0.6853, Validation Accuracy: 0.6974, Loss: 0.4269\n",
      "Epoch   2 Batch  620/1077 - Train Accuracy: 0.7176, Validation Accuracy: 0.7241, Loss: 0.4497\n",
      "Epoch   2 Batch  640/1077 - Train Accuracy: 0.7013, Validation Accuracy: 0.7045, Loss: 0.4292\n",
      "Epoch   2 Batch  660/1077 - Train Accuracy: 0.7113, Validation Accuracy: 0.7163, Loss: 0.4549\n",
      "Epoch   2 Batch  680/1077 - Train Accuracy: 0.6961, Validation Accuracy: 0.7372, Loss: 0.4202\n",
      "Epoch   2 Batch  700/1077 - Train Accuracy: 0.7176, Validation Accuracy: 0.7177, Loss: 0.4127\n",
      "Epoch   2 Batch  720/1077 - Train Accuracy: 0.7048, Validation Accuracy: 0.7280, Loss: 0.4591\n",
      "Epoch   2 Batch  740/1077 - Train Accuracy: 0.7020, Validation Accuracy: 0.7248, Loss: 0.4238\n",
      "Epoch   2 Batch  760/1077 - Train Accuracy: 0.6906, Validation Accuracy: 0.7301, Loss: 0.4229\n",
      "Epoch   2 Batch  780/1077 - Train Accuracy: 0.6770, Validation Accuracy: 0.7461, Loss: 0.4155\n",
      "Epoch   2 Batch  800/1077 - Train Accuracy: 0.7250, Validation Accuracy: 0.7209, Loss: 0.4050\n",
      "Epoch   2 Batch  820/1077 - Train Accuracy: 0.6891, Validation Accuracy: 0.7305, Loss: 0.4293\n",
      "Epoch   2 Batch  840/1077 - Train Accuracy: 0.7438, Validation Accuracy: 0.7383, Loss: 0.3798\n",
      "Epoch   2 Batch  860/1077 - Train Accuracy: 0.7273, Validation Accuracy: 0.7216, Loss: 0.3747\n",
      "Epoch   2 Batch  880/1077 - Train Accuracy: 0.7672, Validation Accuracy: 0.7280, Loss: 0.3716\n",
      "Epoch   2 Batch  900/1077 - Train Accuracy: 0.7625, Validation Accuracy: 0.7376, Loss: 0.3757\n",
      "Epoch   2 Batch  920/1077 - Train Accuracy: 0.7613, Validation Accuracy: 0.7649, Loss: 0.3830\n",
      "Epoch   2 Batch  940/1077 - Train Accuracy: 0.7305, Validation Accuracy: 0.7500, Loss: 0.3657\n",
      "Epoch   2 Batch  960/1077 - Train Accuracy: 0.7653, Validation Accuracy: 0.7536, Loss: 0.3459\n",
      "Epoch   2 Batch  980/1077 - Train Accuracy: 0.7266, Validation Accuracy: 0.7543, Loss: 0.3633\n",
      "Epoch   2 Batch 1000/1077 - Train Accuracy: 0.7887, Validation Accuracy: 0.7731, Loss: 0.3322\n",
      "Epoch   2 Batch 1020/1077 - Train Accuracy: 0.8078, Validation Accuracy: 0.7670, Loss: 0.3241\n",
      "Epoch   2 Batch 1040/1077 - Train Accuracy: 0.7636, Validation Accuracy: 0.7578, Loss: 0.3688\n",
      "Epoch   2 Batch 1060/1077 - Train Accuracy: 0.7660, Validation Accuracy: 0.7749, Loss: 0.3356\n",
      "Epoch   3 Batch   20/1077 - Train Accuracy: 0.7543, Validation Accuracy: 0.7820, Loss: 0.3195\n",
      "Epoch   3 Batch   40/1077 - Train Accuracy: 0.8008, Validation Accuracy: 0.7681, Loss: 0.3263\n",
      "Epoch   3 Batch   60/1077 - Train Accuracy: 0.7459, Validation Accuracy: 0.7521, Loss: 0.3139\n",
      "Epoch   3 Batch   80/1077 - Train Accuracy: 0.7617, Validation Accuracy: 0.7933, Loss: 0.3284\n",
      "Epoch   3 Batch  100/1077 - Train Accuracy: 0.7930, Validation Accuracy: 0.7731, Loss: 0.3292\n",
      "Epoch   3 Batch  120/1077 - Train Accuracy: 0.7984, Validation Accuracy: 0.7944, Loss: 0.3286\n",
      "Epoch   3 Batch  140/1077 - Train Accuracy: 0.7714, Validation Accuracy: 0.7901, Loss: 0.3229\n",
      "Epoch   3 Batch  160/1077 - Train Accuracy: 0.8074, Validation Accuracy: 0.8015, Loss: 0.3075\n",
      "Epoch   3 Batch  180/1077 - Train Accuracy: 0.7496, Validation Accuracy: 0.7915, Loss: 0.2943\n",
      "Epoch   3 Batch  200/1077 - Train Accuracy: 0.7836, Validation Accuracy: 0.7976, Loss: 0.3172\n",
      "Epoch   3 Batch  220/1077 - Train Accuracy: 0.7973, Validation Accuracy: 0.7944, Loss: 0.3046\n",
      "Epoch   3 Batch  240/1077 - Train Accuracy: 0.8180, Validation Accuracy: 0.8029, Loss: 0.2833\n",
      "Epoch   3 Batch  260/1077 - Train Accuracy: 0.8084, Validation Accuracy: 0.8097, Loss: 0.2662\n",
      "Epoch   3 Batch  280/1077 - Train Accuracy: 0.7719, Validation Accuracy: 0.8050, Loss: 0.3038\n",
      "Epoch   3 Batch  300/1077 - Train Accuracy: 0.8121, Validation Accuracy: 0.8129, Loss: 0.2932\n",
      "Epoch   3 Batch  320/1077 - Train Accuracy: 0.7945, Validation Accuracy: 0.8086, Loss: 0.2915\n",
      "Epoch   3 Batch  340/1077 - Train Accuracy: 0.8067, Validation Accuracy: 0.8054, Loss: 0.2888\n",
      "Epoch   3 Batch  360/1077 - Train Accuracy: 0.7926, Validation Accuracy: 0.8178, Loss: 0.2682\n",
      "Epoch   3 Batch  380/1077 - Train Accuracy: 0.8133, Validation Accuracy: 0.8136, Loss: 0.2613\n",
      "Epoch   3 Batch  400/1077 - Train Accuracy: 0.8277, Validation Accuracy: 0.8114, Loss: 0.2881\n",
      "Epoch   3 Batch  420/1077 - Train Accuracy: 0.8520, Validation Accuracy: 0.7969, Loss: 0.2487\n",
      "Epoch   3 Batch  440/1077 - Train Accuracy: 0.8074, Validation Accuracy: 0.8192, Loss: 0.2768\n",
      "Epoch   3 Batch  460/1077 - Train Accuracy: 0.8309, Validation Accuracy: 0.8327, Loss: 0.2764\n",
      "Epoch   3 Batch  480/1077 - Train Accuracy: 0.8491, Validation Accuracy: 0.8292, Loss: 0.2649\n",
      "Epoch   3 Batch  500/1077 - Train Accuracy: 0.8586, Validation Accuracy: 0.8043, Loss: 0.2501\n",
      "Epoch   3 Batch  520/1077 - Train Accuracy: 0.8408, Validation Accuracy: 0.8420, Loss: 0.2410\n",
      "Epoch   3 Batch  540/1077 - Train Accuracy: 0.8199, Validation Accuracy: 0.8161, Loss: 0.2355\n",
      "Epoch   3 Batch  560/1077 - Train Accuracy: 0.8195, Validation Accuracy: 0.8267, Loss: 0.2386\n",
      "Epoch   3 Batch  580/1077 - Train Accuracy: 0.8497, Validation Accuracy: 0.8260, Loss: 0.2304\n",
      "Epoch   3 Batch  600/1077 - Train Accuracy: 0.8378, Validation Accuracy: 0.8295, Loss: 0.2293\n",
      "Epoch   3 Batch  620/1077 - Train Accuracy: 0.8516, Validation Accuracy: 0.8413, Loss: 0.2439\n",
      "Epoch   3 Batch  640/1077 - Train Accuracy: 0.8259, Validation Accuracy: 0.8448, Loss: 0.2201\n",
      "Epoch   3 Batch  660/1077 - Train Accuracy: 0.8332, Validation Accuracy: 0.8217, Loss: 0.2423\n",
      "Epoch   3 Batch  680/1077 - Train Accuracy: 0.8244, Validation Accuracy: 0.8335, Loss: 0.2255\n",
      "Epoch   3 Batch  700/1077 - Train Accuracy: 0.8555, Validation Accuracy: 0.8374, Loss: 0.2115\n",
      "Epoch   3 Batch  720/1077 - Train Accuracy: 0.8252, Validation Accuracy: 0.8420, Loss: 0.2359\n",
      "Epoch   3 Batch  740/1077 - Train Accuracy: 0.8340, Validation Accuracy: 0.8480, Loss: 0.2096\n",
      "Epoch   3 Batch  760/1077 - Train Accuracy: 0.8605, Validation Accuracy: 0.8317, Loss: 0.2351\n",
      "Epoch   3 Batch  780/1077 - Train Accuracy: 0.8137, Validation Accuracy: 0.8370, Loss: 0.2311\n",
      "Epoch   3 Batch  800/1077 - Train Accuracy: 0.8121, Validation Accuracy: 0.8530, Loss: 0.2205\n",
      "Epoch   3 Batch  820/1077 - Train Accuracy: 0.8187, Validation Accuracy: 0.8363, Loss: 0.2212\n",
      "Model Trained and Saved\n"
     ]
    }
   ],
   "source": [
    "\"\"\"\n",
    "DON'T MODIFY ANYTHING IN THIS CELL\n",
    "\"\"\"\n",
    "def get_accuracy(target, logits):\n",
    "    \"\"\"\n",
    "    Calculate accuracy\n",
    "    \"\"\"\n",
    "    max_seq = max(target.shape[1], logits.shape[1])\n",
    "    if max_seq - target.shape[1]:\n",
    "        target = np.pad(\n",
    "            target,\n",
    "            [(0,0),(0,max_seq - target.shape[1])],\n",
    "            'constant')\n",
    "    if max_seq - logits.shape[1]:\n",
    "        logits = np.pad(\n",
    "            logits,\n",
    "            [(0,0),(0,max_seq - logits.shape[1])],\n",
    "            'constant')\n",
    "\n",
    "    return np.mean(np.equal(target, logits))\n",
    "\n",
    "# Split data to training and validation sets\n",
    "train_source = source_int_text[batch_size:]\n",
    "train_target = target_int_text[batch_size:]\n",
    "valid_source = source_int_text[:batch_size]\n",
    "valid_target = target_int_text[:batch_size]\n",
    "(valid_sources_batch, valid_targets_batch, valid_sources_lengths, valid_targets_lengths ) = next(get_batches(valid_source,\n",
    "                                                                                                             valid_target,\n",
    "                                                                                                             batch_size,\n",
    "                                                                                                             source_vocab_to_int['<PAD>'],\n",
    "                                                                                                             target_vocab_to_int['<PAD>']))                                                                                                  \n",
    "with tf.Session(graph=train_graph) as sess:\n",
    "    sess.run(tf.global_variables_initializer())\n",
    "\n",
    "    for epoch_i in range(epochs):\n",
    "        for batch_i, (source_batch, target_batch, sources_lengths, targets_lengths) in enumerate(\n",
    "                get_batches(train_source, train_target, batch_size,\n",
    "                            source_vocab_to_int['<PAD>'],\n",
    "                            target_vocab_to_int['<PAD>'])):\n",
    "\n",
    "            _, loss = sess.run(\n",
    "                [train_op, cost],\n",
    "                {input_data: source_batch,\n",
    "                 targets: target_batch,\n",
    "                 lr: learning_rate,\n",
    "                 target_sequence_length: targets_lengths,\n",
    "                 source_sequence_length: sources_lengths,\n",
    "                 keep_prob: keep_probability})\n",
    "\n",
    "\n",
    "            if batch_i % display_step == 0 and batch_i > 0:\n",
    "\n",
    "\n",
    "                batch_train_logits = sess.run(\n",
    "                    inference_logits,\n",
    "                    {input_data: source_batch,\n",
    "                     source_sequence_length: sources_lengths,\n",
    "                     target_sequence_length: targets_lengths,\n",
    "                     keep_prob: 1.0})\n",
    "\n",
    "\n",
    "                batch_valid_logits = sess.run(\n",
    "                    inference_logits,\n",
    "                    {input_data: valid_sources_batch,\n",
    "                     source_sequence_length: valid_sources_lengths,\n",
    "                     target_sequence_length: valid_targets_lengths,\n",
    "                     keep_prob: 1.0})\n",
    "\n",
    "                train_acc = get_accuracy(target_batch, batch_train_logits)\n",
    "\n",
    "                valid_acc = get_accuracy(valid_targets_batch, batch_valid_logits)\n",
    "\n",
    "                print('Epoch {:>3} Batch {:>4}/{} - Train Accuracy: {:>6.4f}, Validation Accuracy: {:>6.4f}, Loss: {:>6.4f}'\n",
    "                      .format(epoch_i, batch_i, len(source_int_text) // batch_size, train_acc, valid_acc, loss))\n",
    "\n",
    "    # Save Model\n",
    "    saver = tf.train.Saver()\n",
    "    saver.save(sess, save_path)\n",
    "    print('Model Trained and Saved')"
   ]
  },
  {
   "cell_type": "markdown",
   "metadata": {
    "deletable": true,
    "editable": true
   },
   "source": [
    "### Save Parameters\n",
    "Save the `batch_size` and `save_path` parameters for inference."
   ]
  },
  {
   "cell_type": "code",
   "execution_count": null,
   "metadata": {
    "collapsed": true,
    "deletable": true,
    "editable": true
   },
   "outputs": [],
   "source": [
    "\"\"\"\n",
    "DON'T MODIFY ANYTHING IN THIS CELL\n",
    "\"\"\"\n",
    "# Save parameters for checkpoint\n",
    "helper.save_params(save_path)"
   ]
  },
  {
   "cell_type": "markdown",
   "metadata": {
    "deletable": true,
    "editable": true
   },
   "source": [
    "# Checkpoint"
   ]
  },
  {
   "cell_type": "code",
   "execution_count": 26,
   "metadata": {
    "collapsed": true,
    "deletable": true,
    "editable": true
   },
   "outputs": [],
   "source": [
    "\"\"\"\n",
    "DON'T MODIFY ANYTHING IN THIS CELL\n",
    "\"\"\"\n",
    "import tensorflow as tf\n",
    "import numpy as np\n",
    "import helper\n",
    "import problem_unittests as tests\n",
    "\n",
    "_, (source_vocab_to_int, target_vocab_to_int), (source_int_to_vocab, target_int_to_vocab) = helper.load_preprocess()\n",
    "load_path = helper.load_params()"
   ]
  },
  {
   "cell_type": "markdown",
   "metadata": {
    "deletable": true,
    "editable": true
   },
   "source": [
    "## Sentence to Sequence\n",
    "To feed a sentence into the model for translation, you first need to preprocess it.  Implement the function `sentence_to_seq()` to preprocess new sentences.\n",
    "\n",
    "- Convert the sentence to lowercase\n",
    "- Convert words into ids using `vocab_to_int`\n",
    " - Convert words not in the vocabulary, to the `<UNK>` word id."
   ]
  },
  {
   "cell_type": "code",
   "execution_count": 30,
   "metadata": {
    "collapsed": false,
    "deletable": true,
    "editable": true
   },
   "outputs": [
    {
     "name": "stdout",
     "output_type": "stream",
     "text": [
      "Tests Passed\n"
     ]
    }
   ],
   "source": [
    "def sentence_to_seq(sentence, vocab_to_int):\n",
    "    \"\"\"\n",
    "    Convert a sentence to a sequence of ids\n",
    "    :param sentence: String\n",
    "    :param vocab_to_int: Dictionary to go from the words to an id\n",
    "    :return: List of word ids\n",
    "    \"\"\"\n",
    "    # Convert the sentence to lowercase\n",
    "    lowercase_sentence = sentence.lower()\n",
    "    \n",
    "    # Convert words into ids using vocab_to_int\n",
    "    # Convert words not in the vocabulary, to the <UNK> word id.\n",
    "    src_line_token_ids = []\n",
    "    for srcWord in lowercase_sentence.split():\n",
    "        src_line_token_ids.append(vocab_to_int.get(srcWord, vocab_to_int['<UNK>']))\n",
    "   \n",
    "    return src_line_token_ids\n",
    "\n",
    "\n",
    "\"\"\"\n",
    "DON'T MODIFY ANYTHING IN THIS CELL THAT IS BELOW THIS LINE\n",
    "\"\"\"\n",
    "tests.test_sentence_to_seq(sentence_to_seq)"
   ]
  },
  {
   "cell_type": "markdown",
   "metadata": {
    "deletable": true,
    "editable": true
   },
   "source": [
    "## Translate\n",
    "This will translate `translate_sentence` from English to French."
   ]
  },
  {
   "cell_type": "code",
   "execution_count": 31,
   "metadata": {
    "collapsed": false,
    "deletable": true,
    "editable": true
   },
   "outputs": [
    {
     "name": "stdout",
     "output_type": "stream",
     "text": [
      "INFO:tensorflow:Restoring parameters from checkpoints/dev\n",
      "Input\n",
      "  Word Ids:      [227, 91, 148, 132, 176, 31, 11]\n",
      "  English Words: ['he', 'saw', 'a', 'old', 'yellow', 'truck', '.']\n",
      "\n",
      "Prediction\n",
      "  Word Ids:      [222, 236, 174, 305, 117, 294, 23, 183, 1]\n",
      "  French Words: il a vu la vieux camion noir . <EOS>\n"
     ]
    }
   ],
   "source": [
    "translate_sentence = 'he saw a old yellow truck .'\n",
    "\n",
    "\n",
    "\"\"\"\n",
    "DON'T MODIFY ANYTHING IN THIS CELL\n",
    "\"\"\"\n",
    "translate_sentence = sentence_to_seq(translate_sentence, source_vocab_to_int)\n",
    "\n",
    "loaded_graph = tf.Graph()\n",
    "with tf.Session(graph=loaded_graph) as sess:\n",
    "    # Load saved model\n",
    "    loader = tf.train.import_meta_graph(load_path + '.meta')\n",
    "    loader.restore(sess, load_path)\n",
    "\n",
    "    input_data = loaded_graph.get_tensor_by_name('input:0')\n",
    "    logits = loaded_graph.get_tensor_by_name('predictions:0')\n",
    "    target_sequence_length = loaded_graph.get_tensor_by_name('target_sequence_length:0')\n",
    "    source_sequence_length = loaded_graph.get_tensor_by_name('source_sequence_length:0')\n",
    "    keep_prob = loaded_graph.get_tensor_by_name('keep_prob:0')\n",
    "\n",
    "    translate_logits = sess.run(logits, {input_data: [translate_sentence]*batch_size,\n",
    "                                         target_sequence_length: [len(translate_sentence)*2]*batch_size,\n",
    "                                         source_sequence_length: [len(translate_sentence)]*batch_size,\n",
    "                                         keep_prob: 1.0})[0]\n",
    "\n",
    "print('Input')\n",
    "print('  Word Ids:      {}'.format([i for i in translate_sentence]))\n",
    "print('  English Words: {}'.format([source_int_to_vocab[i] for i in translate_sentence]))\n",
    "\n",
    "print('\\nPrediction')\n",
    "print('  Word Ids:      {}'.format([i for i in translate_logits]))\n",
    "print('  French Words: {}'.format(\" \".join([target_int_to_vocab[i] for i in translate_logits])))\n"
   ]
  },
  {
   "cell_type": "markdown",
   "metadata": {
    "deletable": true,
    "editable": true
   },
   "source": [
    "## Imperfect Translation\n",
    "You might notice that some sentences translate better than others.  Since the dataset you're using only has a vocabulary of 227 English words of the thousands that you use, you're only going to see good results using these words.  For this project, you don't need a perfect translation. However, if you want to create a better translation model, you'll need better data.\n",
    "\n",
    "You can train on the [WMT10 French-English corpus](http://www.statmt.org/wmt10/training-giga-fren.tar).  This dataset has more vocabulary and richer in topics discussed.  However, this will take you days to train, so make sure you've a GPU and the neural network is performing well on dataset we provided.  Just make sure you play with the WMT10 corpus after you've submitted this project.\n",
    "## Submitting This Project\n",
    "When submitting this project, make sure to run all the cells before saving the notebook. Save the notebook file as \"dlnd_language_translation.ipynb\" and save it as a HTML file under \"File\" -> \"Download as\". Include the \"helper.py\" and \"problem_unittests.py\" files in your submission."
   ]
  }
 ],
 "metadata": {
  "anaconda-cloud": {},
  "kernelspec": {
   "display_name": "Python 3",
   "language": "python",
   "name": "python3"
  },
  "language_info": {
   "codemirror_mode": {
    "name": "ipython",
    "version": 3
   },
   "file_extension": ".py",
   "mimetype": "text/x-python",
   "name": "python",
   "nbconvert_exporter": "python",
   "pygments_lexer": "ipython3",
   "version": "3.5.3"
  }
 },
 "nbformat": 4,
 "nbformat_minor": 1
}
