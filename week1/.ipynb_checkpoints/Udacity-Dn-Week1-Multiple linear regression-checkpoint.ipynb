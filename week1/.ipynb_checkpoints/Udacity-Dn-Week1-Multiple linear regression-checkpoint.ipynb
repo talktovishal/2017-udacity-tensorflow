{
 "cells": [
  {
   "cell_type": "markdown",
   "metadata": {},
   "source": [
    "# Multiple Linear Regression\n",
    "The linear regression you've done so far uses a single predictor variable. But luckily you can also do linear regression with more than one independent variable. If the outcome depends on more than one variable, you can make a more complicated model that takes this into account! As long as they're relevant to the situation, using more independent/predictor variables can help you get you a better prediction! When there's just one predictor, the linear regression model is a line, but as you add more predictor variables, you're adding more dimensions to the picture.\n",
    "When you have one predictor variable, the equation of the line is\n",
    "\n",
    "y=mx+b\n",
    "\n",
    "and the plot might look something like this:\n",
    "Linear regression with one predictor variable\n",
    "Linear regression with one predictor variable\n",
    "Adding a predictor variable to go to two predictor variables means that the predicting equation is:\n",
    "\n",
    "y=m\n",
    "​1\n",
    "​​ x\n",
    "​1\n",
    "​​ +m\n",
    "​2\n",
    "​​ x\n",
    "​2\n",
    "​​ +b\n",
    "\n",
    "To represent this graphically, we'll need a three-dimensional plot, with the linear regression model represented as a plane:\n",
    "Linear regression with two predictor variables\n",
    "Linear regression with two predictor variables\n",
    "You can use more than two predictor variables, in fact you should use as many as is useful! If you use n predictor variables, then the model can be represented by the equation\n",
    "\n",
    "y=m\n",
    "​1\n",
    "​​ x\n",
    "​1\n",
    "​​ +m\n",
    "​2\n",
    "​​ x\n",
    "​2\n",
    "​​ +m\n",
    "​3\n",
    "​​ x\n",
    "​3\n",
    "​​ +...+m\n",
    "​n\n",
    "​​ x\n",
    "​n\n",
    "​​ +b\n",
    "\n",
    "As you make a model with more predictor variables, it becomes harder to visualise, but luckily, everything else about linear regression stays the same. We can still fit models and make predictions in exactly the same way - time to try it!\n",
    "\n",
    "Programming Quiz: Multiple Linear Regression\n",
    "~~~~~~~~~~~~~~~~~~~~~~~~~~~~~~~~~~~~~~~~~~~~\n",
    "In this quiz, you'll be using the Boston house-prices dataset. The dataset consists of 13 features of 506 houses and their median value in $1000's. You'll fit a model on the 13 features to predict on the value of houses.\n",
    "\n",
    "You'll need to complete each of the following steps:\n",
    "\n",
    "1. Build a linear regression model\n",
    "    Create a regression model using scikit-learn's LinearRegression and assign it to model.\n",
    "    Fit the model to the data.\n",
    "    \n",
    "2. Predict using the model\n",
    "    Predict the value of sample_house."
   ]
  },
  {
   "cell_type": "code",
   "execution_count": 4,
   "metadata": {
    "collapsed": false
   },
   "outputs": [
    {
     "name": "stdout",
     "output_type": "stream",
     "text": [
      "(506, 13)\n"
     ]
    },
    {
     "ename": "NameError",
     "evalue": "name 'bmi_life_model' is not defined",
     "output_type": "error",
     "traceback": [
      "\u001b[0;31m---------------------------------------------------------------------------\u001b[0m",
      "\u001b[0;31mNameError\u001b[0m                                 Traceback (most recent call last)",
      "\u001b[0;32m<ipython-input-4-ebf33447ff12>\u001b[0m in \u001b[0;36m<module>\u001b[0;34m()\u001b[0m\n\u001b[1;32m     12\u001b[0m \u001b[1;31m# TODO: Fit the model and Assign it to the model variable\u001b[0m\u001b[1;33m\u001b[0m\u001b[1;33m\u001b[0m\u001b[0m\n\u001b[1;32m     13\u001b[0m \u001b[0mmodel\u001b[0m \u001b[1;33m=\u001b[0m \u001b[0mLinearRegression\u001b[0m\u001b[1;33m(\u001b[0m\u001b[1;33m)\u001b[0m\u001b[1;33m\u001b[0m\u001b[0m\n\u001b[0;32m---> 14\u001b[0;31m \u001b[0mbmi_life_model\u001b[0m\u001b[1;33m.\u001b[0m\u001b[0mfit\u001b[0m\u001b[1;33m(\u001b[0m\u001b[0mx\u001b[0m\u001b[1;33m,\u001b[0m \u001b[0my\u001b[0m\u001b[1;33m)\u001b[0m\u001b[1;33m\u001b[0m\u001b[0m\n\u001b[0m\u001b[1;32m     15\u001b[0m \u001b[1;33m\u001b[0m\u001b[0m\n\u001b[1;32m     16\u001b[0m \u001b[1;31m# Make a prediction using the model\u001b[0m\u001b[1;33m\u001b[0m\u001b[1;33m\u001b[0m\u001b[0m\n",
      "\u001b[0;31mNameError\u001b[0m: name 'bmi_life_model' is not defined"
     ]
    }
   ],
   "source": [
    "from sklearn.linear_model import LinearRegression\n",
    "from sklearn.datasets import load_boston\n",
    "\n",
    "# Load the data from the the boston house-prices dataset \n",
    "boston_data = load_boston()\n",
    "x = boston_data['data']\n",
    "y = boston_data['target']\n",
    "\n",
    "print(x.shape)\n",
    "\n",
    "# Make and fit the linear regression model\n",
    "# TODO: Fit the model and Assign it to the model variable\n",
    "model = LinearRegression()\n",
    "model.fit(x, y)\n",
    "\n",
    "# Make a prediction using the model\n",
    "sample_house = [[2.29690000e-01, 0.00000000e+00, 1.05900000e+01, 0.00000000e+00, 4.89000000e-01,\n",
    "                6.32600000e+00, 5.25000000e+01, 4.35490000e+00, 4.00000000e+00, 2.77000000e+02,\n",
    "                1.86000000e+01, 3.94870000e+02, 1.09700000e+01]]\n",
    "# TODO: Predict housing price for the sample_house\n",
    "prediction = model.predict([sample_house])\n",
    "prediction"
   ]
  }
 ],
 "metadata": {
  "kernelspec": {
   "display_name": "Python 3",
   "language": "python",
   "name": "python3"
  },
  "language_info": {
   "codemirror_mode": {
    "name": "ipython",
    "version": 3
   },
   "file_extension": ".py",
   "mimetype": "text/x-python",
   "name": "python",
   "nbconvert_exporter": "python",
   "pygments_lexer": "ipython3",
   "version": "3.5.2"
  }
 },
 "nbformat": 4,
 "nbformat_minor": 2
}
