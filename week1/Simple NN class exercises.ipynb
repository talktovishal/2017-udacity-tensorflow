{
 "cells": [
  {
   "cell_type": "markdown",
   "metadata": {},
   "source": [
    "##<b>Sigmoid calculation</b>\n",
    "\n",
    "Below, you'll use Numpy to calculate the output of a simple network with two input nodes and one output node with a sigmoid activation function. Thing's you'll need to do:\n",
    "\n",
    "Implement the sigmoid function.\n",
    "Calculate the output of the network.\n",
    "As a reminder, the sigmoid function is\n",
    "\n",
    "$sigmoid(x)=1/(1+e^{−x} )$\n",
    "\n",
    "For the exponential, you can use Numpy's exponential function, np.exp.\n",
    "\n",
    "And the output of the network is\n",
    "\n",
    "$a=f(h)=sigmoid(\\sum_{k=0}^i (w_ix_i +b))$\n",
    "\n",
    "For the weights sum, you can do a simple element-wise multiplication and sum, or Numpy's dot product function.\n",
    "\n",
    "Quick refresher for .dot product = a1b1 + a2b2 + a3b3....\n",
    "http://www.python-course.eu/matrix_arithmetic.php"
   ]
  },
  {
   "cell_type": "code",
   "execution_count": 1,
   "metadata": {
    "collapsed": false,
    "scrolled": true
   },
   "outputs": [
    {
     "name": "stdout",
     "output_type": "stream",
     "text": [
      "Output:\n",
      "0.432907095035\n"
     ]
    }
   ],
   "source": [
    "import numpy as np\n",
    "\n",
    "def sigmoid(x):\n",
    "    # TODO: Implement sigmoid function\n",
    "    return 1.0 / (1 + np.exp(-x))\n",
    "\n",
    "inputs = np.array([0.7, -0.3])\n",
    "weights = np.array([0.1, 0.8])\n",
    "bias = -0.1\n",
    "\n",
    "# TODO: Calculate the output\n",
    "output = sigmoid(np.dot(inputs, weights) + bias)\n",
    "\n",
    "print('Output:')\n",
    "print(output)"
   ]
  },
  {
   "cell_type": "markdown",
   "metadata": {},
   "source": [
    "## Gradient descent exercise"
   ]
  },
  {
   "cell_type": "code",
   "execution_count": 7,
   "metadata": {
    "collapsed": false
   },
   "outputs": [
    {
     "name": "stdout",
     "output_type": "stream",
     "text": [
      " error_gradient =  0.0287783974262\n",
      " error_gradient_2 =  0.0287783974262\n",
      "Neural Network output:\n",
      "0.377540668798\n",
      "Amount of Error:\n",
      "0.122459331202\n",
      "Change in Weights:\n",
      "[ 0.0143892  0.0287784]\n",
      "[0.014389198713080188, 0.028778397426160375]\n"
     ]
    }
   ],
   "source": [
    "import numpy as np\n",
    "def sigmoid(x):\n",
    "    \"\"\"\n",
    "    Calculate sigmoid\n",
    "    \"\"\"\n",
    "    return 1/(1+np.exp(-x))\n",
    "\n",
    "def sigmoid_derivate(x):\n",
    "    return sigmoid(x) * (1 - sigmoid(x))\n",
    "\n",
    "\n",
    "learnrate = 0.5\n",
    "x = np.array([1, 2])\n",
    "y = np.array(0.5)\n",
    "\n",
    "# Initial weights\n",
    "w = np.array([0.5, -0.5])\n",
    "\n",
    "# Calculate one gradient descent step for each weight\n",
    "# TODO: Calculate output of neural network\n",
    "#y_hat = F{ sum(w_ij * x_i) }\n",
    "X = np.dot(x, w)\n",
    "nn_output = sigmoid(X)\n",
    "\n",
    "# TODO: Calculate error of neural network\n",
    "# error_gradient = (y - y_hat) * F'(sum(w_ij * x_i))\n",
    "# For signoid F'(h) = F(h) * ( 1 - F(h))\n",
    "error =  y - nn_output\n",
    "error_gradient =  np.dot(error,  sigmoid_derivate(X))\n",
    "error_gradient_2 =  error *  sigmoid_derivate(X)\n",
    "\n",
    "print(' error_gradient = ', error_gradient);\n",
    "print(' error_gradient_2 = ', error_gradient_2);\n",
    "\n",
    "# TODO: Calculate change in weights\n",
    "# delta = learning_rate * error_gradient * x_i\n",
    "#del_w = np.dot(x, learnrate * error_gradient)\n",
    "\n",
    "\n",
    "### NOTE:: dot product also works but there's a drop in resolution in the \n",
    "# number of decimal places\n",
    "\n",
    "del_w = np.dot(x, learnrate * error_gradient)\n",
    "del_w2 = [ learnrate * error * nn_output * (1 - nn_output) * 1, \n",
    "          learnrate * error * nn_output * (1 - nn_output) * 2]\n",
    "\n",
    "\n",
    "\n",
    "\n",
    "print('Neural Network output:')\n",
    "print(nn_output)\n",
    "print('Amount of Error:')\n",
    "print(error)\n",
    "print('Change in Weights:')\n",
    "print(del_w)\n",
    "print(del_w2)\n"
   ]
  },
  {
   "cell_type": "code",
   "execution_count": null,
   "metadata": {
    "collapsed": true
   },
   "outputs": [],
   "source": []
  }
 ],
 "metadata": {
  "kernelspec": {
   "display_name": "Python 3",
   "language": "python",
   "name": "python3"
  },
  "language_info": {
   "codemirror_mode": {
    "name": "ipython",
    "version": 3
   },
   "file_extension": ".py",
   "mimetype": "text/x-python",
   "name": "python",
   "nbconvert_exporter": "python",
   "pygments_lexer": "ipython3",
   "version": "3.6.0"
  }
 },
 "nbformat": 4,
 "nbformat_minor": 2
}
